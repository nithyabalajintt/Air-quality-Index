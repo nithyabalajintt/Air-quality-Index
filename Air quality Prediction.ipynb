{
 "cells": [
  {
   "cell_type": "markdown",
   "metadata": {},
   "source": [
    "\n",
    "<div style = \"text-align:center;\"><span style=\"font-size: 26px; font-weight:bold;\">AIR QUALITY CLASSIFICATION</span>\n",
    "</div>"
   ]
  },
  {
   "cell_type": "code",
   "execution_count": 130,
   "metadata": {},
   "outputs": [],
   "source": [
    "#pip install --trusted-host pypi.org --trusted-host files.pythonhosted.org pycaret"
   ]
  },
  {
   "cell_type": "code",
   "execution_count": 312,
   "metadata": {},
   "outputs": [],
   "source": [
    "import pandas as pd\n",
    "import matplotlib.pyplot as plt\n",
    "import seaborn as sn\n",
    "import numpy as np\n",
    "from sklearn.model_selection import train_test_split\n",
    "from sklearn.linear_model import LogisticRegression\n",
    "from sklearn.metrics import accuracy_score,confusion_matrix, classification_report,ConfusionMatrixDisplay,precision_score\n",
    "from sklearn.model_selection import cross_val_score\n",
    "from sklearn.ensemble import RandomForestClassifier\n",
    "from sklearn.preprocessing import MinMaxScaler\n",
    "from scipy.stats import skew, kurtosis\n",
    "from sklearn.model_selection import GridSearchCV\n",
    "import pickle\n"
   ]
  },
  {
   "cell_type": "code",
   "execution_count": 132,
   "metadata": {},
   "outputs": [],
   "source": [
    "df=pd.read_excel('pollution_dataset.xlsx')"
   ]
  },
  {
   "cell_type": "code",
   "execution_count": 133,
   "metadata": {},
   "outputs": [
    {
     "data": {
      "text/plain": [
       "Index(['Temperature', 'Humidity', 'PM2.5', 'PM10', 'NO2', 'SO2', 'CO',\n",
       "       'Proximity_to_Industrial_Areas', 'Population_Density', 'Air Quality'],\n",
       "      dtype='object')"
      ]
     },
     "execution_count": 133,
     "metadata": {},
     "output_type": "execute_result"
    }
   ],
   "source": [
    "df.columns"
   ]
  },
  {
   "cell_type": "code",
   "execution_count": 134,
   "metadata": {},
   "outputs": [
    {
     "data": {
      "text/html": [
       "<div>\n",
       "<style scoped>\n",
       "    .dataframe tbody tr th:only-of-type {\n",
       "        vertical-align: middle;\n",
       "    }\n",
       "\n",
       "    .dataframe tbody tr th {\n",
       "        vertical-align: top;\n",
       "    }\n",
       "\n",
       "    .dataframe thead th {\n",
       "        text-align: right;\n",
       "    }\n",
       "</style>\n",
       "<table border=\"1\" class=\"dataframe\">\n",
       "  <thead>\n",
       "    <tr style=\"text-align: right;\">\n",
       "      <th></th>\n",
       "      <th>Temperature</th>\n",
       "      <th>Humidity</th>\n",
       "      <th>PM2.5</th>\n",
       "      <th>PM10</th>\n",
       "      <th>NO2</th>\n",
       "      <th>SO2</th>\n",
       "      <th>CO</th>\n",
       "      <th>Proximity_to_Industrial_Areas</th>\n",
       "      <th>Population_Density</th>\n",
       "      <th>Air Quality</th>\n",
       "    </tr>\n",
       "  </thead>\n",
       "  <tbody>\n",
       "    <tr>\n",
       "      <th>0</th>\n",
       "      <td>27.1</td>\n",
       "      <td>39.1</td>\n",
       "      <td>6.1</td>\n",
       "      <td>6.3</td>\n",
       "      <td>13.5</td>\n",
       "      <td>5.3</td>\n",
       "      <td>1.15</td>\n",
       "      <td>11.1</td>\n",
       "      <td>551</td>\n",
       "      <td>Good</td>\n",
       "    </tr>\n",
       "    <tr>\n",
       "      <th>1</th>\n",
       "      <td>26.5</td>\n",
       "      <td>70.7</td>\n",
       "      <td>6.9</td>\n",
       "      <td>16.0</td>\n",
       "      <td>21.9</td>\n",
       "      <td>5.6</td>\n",
       "      <td>1.01</td>\n",
       "      <td>12.7</td>\n",
       "      <td>303</td>\n",
       "      <td>Good</td>\n",
       "    </tr>\n",
       "    <tr>\n",
       "      <th>2</th>\n",
       "      <td>39.4</td>\n",
       "      <td>96.6</td>\n",
       "      <td>14.6</td>\n",
       "      <td>35.5</td>\n",
       "      <td>42.9</td>\n",
       "      <td>17.9</td>\n",
       "      <td>1.82</td>\n",
       "      <td>3.1</td>\n",
       "      <td>674</td>\n",
       "      <td>Poor</td>\n",
       "    </tr>\n",
       "    <tr>\n",
       "      <th>3</th>\n",
       "      <td>41.7</td>\n",
       "      <td>82.5</td>\n",
       "      <td>1.7</td>\n",
       "      <td>15.8</td>\n",
       "      <td>31.1</td>\n",
       "      <td>12.7</td>\n",
       "      <td>1.80</td>\n",
       "      <td>4.6</td>\n",
       "      <td>735</td>\n",
       "      <td>Poor</td>\n",
       "    </tr>\n",
       "    <tr>\n",
       "      <th>4</th>\n",
       "      <td>29.4</td>\n",
       "      <td>93.8</td>\n",
       "      <td>10.3</td>\n",
       "      <td>22.7</td>\n",
       "      <td>45.1</td>\n",
       "      <td>11.8</td>\n",
       "      <td>2.03</td>\n",
       "      <td>5.4</td>\n",
       "      <td>486</td>\n",
       "      <td>Poor</td>\n",
       "    </tr>\n",
       "  </tbody>\n",
       "</table>\n",
       "</div>"
      ],
      "text/plain": [
       "   Temperature  Humidity  PM2.5  PM10   NO2   SO2    CO  \\\n",
       "0         27.1      39.1    6.1   6.3  13.5   5.3  1.15   \n",
       "1         26.5      70.7    6.9  16.0  21.9   5.6  1.01   \n",
       "2         39.4      96.6   14.6  35.5  42.9  17.9  1.82   \n",
       "3         41.7      82.5    1.7  15.8  31.1  12.7  1.80   \n",
       "4         29.4      93.8   10.3  22.7  45.1  11.8  2.03   \n",
       "\n",
       "   Proximity_to_Industrial_Areas  Population_Density Air Quality  \n",
       "0                           11.1                 551        Good  \n",
       "1                           12.7                 303        Good  \n",
       "2                            3.1                 674        Poor  \n",
       "3                            4.6                 735        Poor  \n",
       "4                            5.4                 486        Poor  "
      ]
     },
     "execution_count": 134,
     "metadata": {},
     "output_type": "execute_result"
    }
   ],
   "source": [
    "df.head() #shows first five samples in the dataset"
   ]
  },
  {
   "cell_type": "markdown",
   "metadata": {},
   "source": [
    "\n",
    "<span style=\"font-size: 22px; font-weight:bold;\">CHECKING FOR NULL VALUES</span>\n"
   ]
  },
  {
   "cell_type": "code",
   "execution_count": 135,
   "metadata": {},
   "outputs": [
    {
     "name": "stdout",
     "output_type": "stream",
     "text": [
      "<class 'pandas.core.frame.DataFrame'>\n",
      "RangeIndex: 4250 entries, 0 to 4249\n",
      "Data columns (total 10 columns):\n",
      " #   Column                         Non-Null Count  Dtype  \n",
      "---  ------                         --------------  -----  \n",
      " 0   Temperature                    4250 non-null   float64\n",
      " 1   Humidity                       4250 non-null   float64\n",
      " 2   PM2.5                          4250 non-null   float64\n",
      " 3   PM10                           4250 non-null   float64\n",
      " 4   NO2                            4250 non-null   float64\n",
      " 5   SO2                            4250 non-null   float64\n",
      " 6   CO                             4250 non-null   float64\n",
      " 7   Proximity_to_Industrial_Areas  4250 non-null   float64\n",
      " 8   Population_Density             4250 non-null   int64  \n",
      " 9   Air Quality                    4250 non-null   object \n",
      "dtypes: float64(8), int64(1), object(1)\n",
      "memory usage: 332.2+ KB\n"
     ]
    }
   ],
   "source": [
    "df.info()  #helps in checking if there are any null values"
   ]
  },
  {
   "cell_type": "code",
   "execution_count": 136,
   "metadata": {},
   "outputs": [
    {
     "data": {
      "text/plain": [
       "Temperature                      0\n",
       "Humidity                         0\n",
       "PM2.5                            0\n",
       "PM10                             0\n",
       "NO2                              0\n",
       "SO2                              0\n",
       "CO                               0\n",
       "Proximity_to_Industrial_Areas    0\n",
       "Population_Density               0\n",
       "Air Quality                      0\n",
       "dtype: int64"
      ]
     },
     "execution_count": 136,
     "metadata": {},
     "output_type": "execute_result"
    }
   ],
   "source": [
    "df.isnull().sum()  #another method that helps in checking if there are any null values"
   ]
  },
  {
   "cell_type": "markdown",
   "metadata": {},
   "source": [
    "These results shows that there is no null values in the dataset."
   ]
  },
  {
   "cell_type": "markdown",
   "metadata": {},
   "source": [
    "\n",
    "<span style=\"font-size: 22px;font-weight:bold;\">CHECKING FOR DUPLICATE ROWS</span>"
   ]
  },
  {
   "cell_type": "code",
   "execution_count": 137,
   "metadata": {},
   "outputs": [
    {
     "data": {
      "text/plain": [
       "0"
      ]
     },
     "execution_count": 137,
     "metadata": {},
     "output_type": "execute_result"
    }
   ],
   "source": [
    "df.duplicated().sum()"
   ]
  },
  {
   "cell_type": "markdown",
   "metadata": {},
   "source": [
    "This result shows that there are no duplicate rows in the dataset."
   ]
  },
  {
   "cell_type": "markdown",
   "metadata": {},
   "source": [
    "<span style=\"font-size: 22px;font-weight:bold;\">CHECKING FOR INVALID DATA TYPES</span>"
   ]
  },
  {
   "cell_type": "code",
   "execution_count": 138,
   "metadata": {},
   "outputs": [
    {
     "data": {
      "text/plain": [
       "Temperature                      float64\n",
       "Humidity                         float64\n",
       "PM2.5                            float64\n",
       "PM10                             float64\n",
       "NO2                              float64\n",
       "SO2                              float64\n",
       "CO                               float64\n",
       "Proximity_to_Industrial_Areas    float64\n",
       "Population_Density                 int64\n",
       "Air Quality                       object\n",
       "dtype: object"
      ]
     },
     "execution_count": 138,
     "metadata": {},
     "output_type": "execute_result"
    }
   ],
   "source": [
    "df.dtypes"
   ]
  },
  {
   "cell_type": "code",
   "execution_count": 139,
   "metadata": {},
   "outputs": [
    {
     "name": "stdout",
     "output_type": "stream",
     "text": [
      "No invalid data type values in Column  Temperature\n",
      "No invalid data type values in Column  Humidity\n",
      "No invalid data type values in Column  PM2.5\n",
      "No invalid data type values in Column  PM10\n",
      "No invalid data type values in Column  NO2\n",
      "No invalid data type values in Column  SO2\n",
      "No invalid data type values in Column  CO\n",
      "No invalid data type values in Column  Proximity_to_Industrial_Areas\n"
     ]
    }
   ],
   "source": [
    "check = ['Temperature', 'Humidity', 'PM2.5', 'PM10', 'NO2', 'SO2', 'CO',\n",
    "       'Proximity_to_Industrial_Areas']\n",
    "\n",
    "for i in check:\n",
    "    invalid = df[~df[i].apply(lambda x: isinstance(x,float))]\n",
    "    if not invalid.empty:\n",
    "        print(\"Invalid data type values found in column \",i)\n",
    "    else:\n",
    "        print(\"No invalid data type values in Column \",i)\n"
   ]
  },
  {
   "cell_type": "code",
   "execution_count": 140,
   "metadata": {},
   "outputs": [
    {
     "name": "stdout",
     "output_type": "stream",
     "text": [
      "No invalid data type values in the column\n"
     ]
    }
   ],
   "source": [
    "#Population Density - int\n",
    "invalid_pop= df[~df['Population_Density'].apply(lambda x: isinstance(x,int))]\n",
    "if not invalid_pop.empty:\n",
    "    print(\"Invalid data type values found in the column\")\n",
    "else:\n",
    "    print(\"No invalid data type values in the column\")"
   ]
  },
  {
   "cell_type": "code",
   "execution_count": 141,
   "metadata": {},
   "outputs": [
    {
     "name": "stdout",
     "output_type": "stream",
     "text": [
      "No invalid data type values in the column\n"
     ]
    }
   ],
   "source": [
    "#Air Quality - categorical type\n",
    "invalid_air=df[~df['Air Quality'].isin([\"Poor\",\"Good\"])]\n",
    "if not invalid_air.empty:\n",
    "    print(\"Invalid data type values found in the column\")\n",
    "else:\n",
    "    print(\"No invalid data type values in the column\")"
   ]
  },
  {
   "cell_type": "markdown",
   "metadata": {},
   "source": [
    "These results shows that there are no invalid data type in the dataset."
   ]
  },
  {
   "cell_type": "markdown",
   "metadata": {},
   "source": [
    "<span style=\"font-size: 22px; font-weight:bold;\">CHECKING FOR INVALID DATA VALUES </span>"
   ]
  },
  {
   "cell_type": "code",
   "execution_count": 142,
   "metadata": {},
   "outputs": [
    {
     "data": {
      "text/plain": [
       "Index(['Temperature', 'Humidity', 'PM2.5', 'PM10', 'NO2', 'SO2', 'CO',\n",
       "       'Proximity_to_Industrial_Areas', 'Population_Density', 'Air Quality'],\n",
       "      dtype='object')"
      ]
     },
     "execution_count": 142,
     "metadata": {},
     "output_type": "execute_result"
    }
   ],
   "source": [
    "df.columns"
   ]
  },
  {
   "cell_type": "markdown",
   "metadata": {},
   "source": [
    "'Humidity', 'PM2.5', 'PM10', 'NO2', 'SO2', 'CO', 'Proximity_to_Industrial_Areas', 'Population_Density' columns cannot have negative values.  \n",
    "Checking for negative values: "
   ]
  },
  {
   "cell_type": "code",
   "execution_count": 143,
   "metadata": {},
   "outputs": [
    {
     "name": "stdout",
     "output_type": "stream",
     "text": [
      "Negative values found in column  PM10\n",
      "Negative values found in column  SO2\n"
     ]
    }
   ],
   "source": [
    "check_column=['Humidity', 'PM2.5', 'PM10', 'NO2', 'SO2', 'CO',\n",
    "       'Proximity_to_Industrial_Areas', 'Population_Density']\n",
    "\n",
    "for i in check_column:\n",
    "    if not df[df[i]<0].empty:\n",
    "        print(\"Negative values found in column \",i)\n",
    "        #print(df[df[i]<0])\n"
   ]
  },
  {
   "cell_type": "code",
   "execution_count": 144,
   "metadata": {},
   "outputs": [
    {
     "name": "stdout",
     "output_type": "stream",
     "text": [
      "Negative values found in column  Population_Density\n",
      "    Temperature  Humidity  PM2.5  PM10   NO2  SO2    CO  \\\n",
      "14         25.6      58.3    0.4  -0.2  25.3  4.5  0.98   \n",
      "\n",
      "    Proximity_to_Industrial_Areas  Population_Density Air Quality  \n",
      "14                           10.0                 536        Good  \n"
     ]
    }
   ],
   "source": [
    "#PM10\n",
    "if not df[df['PM10']<0].empty:\n",
    "    print(\"Negative values found in column \",i)\n",
    "    print(df[df['PM10']<0])\n",
    "\n",
    "else:\n",
    "    print(\"Empty\")\n"
   ]
  },
  {
   "cell_type": "code",
   "execution_count": 145,
   "metadata": {},
   "outputs": [
    {
     "name": "stdout",
     "output_type": "stream",
     "text": [
      "Negative values found in column  Population_Density\n",
      "      Temperature  Humidity  PM2.5  PM10   NO2  SO2    CO  \\\n",
      "142          25.9      64.2    1.5  10.3  23.6 -0.4  0.93   \n",
      "248          24.3      44.2    9.5  12.5  18.8 -0.2  0.83   \n",
      "321          26.5      59.9   92.7  98.0  25.4 -0.5  0.92   \n",
      "331          25.0      77.9    2.1   8.6  12.3 -0.3  1.09   \n",
      "357          40.1      62.1   47.7  67.7  31.6 -4.1  2.54   \n",
      "397          23.9      54.6    0.8   5.8  18.0 -0.6  0.92   \n",
      "545          26.7      66.0    0.5   5.4  20.9 -0.6  0.87   \n",
      "705          21.8      72.4    4.0   7.5  19.4 -0.3  1.15   \n",
      "728          24.4      63.7   31.1  34.2  16.4 -0.2  0.99   \n",
      "1038         36.0      89.8   33.0  47.9  26.0 -0.1  1.74   \n",
      "1222         44.1      72.6   66.5  86.1  33.2 -0.2  2.49   \n",
      "1416         21.5      61.4    4.2  10.4  22.1 -0.1  0.95   \n",
      "1681         32.7      82.0   64.9  78.4  30.5 -1.9  1.93   \n",
      "1721         41.2      86.9   26.7  40.8  39.5 -0.2  1.62   \n",
      "1860         30.4     103.6   17.5  40.4  24.1 -6.2  2.21   \n",
      "2102         26.0      72.8    3.4  10.2  25.1 -0.2  1.05   \n",
      "2162         29.8      80.8   10.4  14.9  17.1 -0.4  1.53   \n",
      "2435         26.1      67.9   19.4  21.4  16.0 -1.4  1.11   \n",
      "2467         30.1      59.5    3.9   8.3  19.6 -0.4  1.00   \n",
      "2528         31.9      61.4   29.5  31.9  28.7 -0.3  1.06   \n",
      "2623         25.6      73.6    4.9   9.3  23.1 -0.1  1.08   \n",
      "3159         26.2      56.5   20.4  28.2  14.2 -0.4  0.88   \n",
      "3654         33.0      84.1    1.6  23.8  31.4 -3.4  2.10   \n",
      "4189         33.8      66.9    5.8  11.0  15.4 -1.2  1.06   \n",
      "\n",
      "      Proximity_to_Industrial_Areas  Population_Density Air Quality  \n",
      "142                            11.5                 386        Good  \n",
      "248                            10.6                 341        Good  \n",
      "321                            11.6                 485        Good  \n",
      "331                            14.1                 269        Good  \n",
      "357                             4.9                 570        Poor  \n",
      "397                            13.2                 363        Good  \n",
      "545                            10.1                 422        Good  \n",
      "705                            12.2                 490        Good  \n",
      "728                            10.7                 501        Good  \n",
      "1038                            4.3                 490        Poor  \n",
      "1222                            2.7                 565        Poor  \n",
      "1416                           10.9                 447        Good  \n",
      "1681                            3.4                 766        Poor  \n",
      "1721                            5.6                 783        Poor  \n",
      "1860                            7.3                 521        Poor  \n",
      "2102                           12.5                 437        Good  \n",
      "2162                            5.7                 502        Good  \n",
      "2435                           13.4                 528        Good  \n",
      "2467                           15.3                 488        Good  \n",
      "2528                           11.1                 212        Good  \n",
      "2623                           18.8                 547        Good  \n",
      "3159                           12.4                 427        Good  \n",
      "3654                            4.3                 493        Poor  \n",
      "4189                           14.4                 298        Good  \n"
     ]
    }
   ],
   "source": [
    "#SO2\n",
    "if not df[df['SO2']<0].empty:\n",
    "    print(\"Negative values found in column \",i)\n",
    "    print(df[df['SO2']<0])\n",
    "\n",
    "else:\n",
    "    print(\"Empty\")"
   ]
  },
  {
   "cell_type": "code",
   "execution_count": 146,
   "metadata": {},
   "outputs": [
    {
     "data": {
      "text/plain": [
       "24"
      ]
     },
     "execution_count": 146,
     "metadata": {},
     "output_type": "execute_result"
    }
   ],
   "source": [
    "(df['SO2']<0).sum() #checking number of negative values"
   ]
  },
  {
   "cell_type": "markdown",
   "metadata": {},
   "source": [
    "Negative values can be handled by replacing them with mean or median values of the column. The choice between mean and  median is based on whether there are outliers in the data.\n",
    "If there are outliers, then median. Else, mean."
   ]
  },
  {
   "cell_type": "code",
   "execution_count": 147,
   "metadata": {},
   "outputs": [
    {
     "data": {
      "text/plain": [
       "<Axes: >"
      ]
     },
     "execution_count": 147,
     "metadata": {},
     "output_type": "execute_result"
    },
    {
     "data": {
      "image/png": "[encoded data removed]",
      "text/plain": [
       "<Figure size 640x480 with 1 Axes>"
      ]
     },
     "metadata": {},
     "output_type": "display_data"
    }
   ],
   "source": [
    "#checking outliers for PM10\n",
    "sn.boxplot([df['PM10']])"
   ]
  },
  {
   "cell_type": "code",
   "execution_count": 148,
   "metadata": {},
   "outputs": [
    {
     "data": {
      "text/plain": [
       "<Axes: >"
      ]
     },
     "execution_count": 148,
     "metadata": {},
     "output_type": "execute_result"
    },
    {
     "data": {
      "image/png": "[encoded data removed]",
      "text/plain": [
       "<Figure size 640x480 with 1 Axes>"
      ]
     },
     "metadata": {},
     "output_type": "display_data"
    }
   ],
   "source": [
    "#checking outliers for SO2\n",
    "sn.boxplot([df['SO2']])"
   ]
  },
  {
   "cell_type": "markdown",
   "metadata": {},
   "source": [
    "There are outliers in both PM10 and SO2. So we can use median to replace the negative values."
   ]
  },
  {
   "cell_type": "code",
   "execution_count": 149,
   "metadata": {},
   "outputs": [],
   "source": [
    "#replacing negative values in PM10 and SO2\n",
    "df['PM10'] = df['PM10'].apply(lambda x: df['PM10'].median() if x<0 else x)\n",
    "df['SO2'] = df['SO2'].apply(lambda x: df['SO2'].median() if x<0 else x)"
   ]
  },
  {
   "cell_type": "code",
   "execution_count": 150,
   "metadata": {},
   "outputs": [
    {
     "name": "stdout",
     "output_type": "stream",
     "text": [
      "Empty\n",
      "Empty\n"
     ]
    }
   ],
   "source": [
    "#crosschecking if the negative values are removed\n",
    "#PM10\n",
    "if not df[df['PM10']<0].empty:\n",
    "    print(\"Negative values found in column \",i)\n",
    "    print(df[df['PM10']<0])\n",
    "\n",
    "else:\n",
    "    print(\"Empty\")\n",
    "\n",
    "#SO2\n",
    "if not df[df['SO2']<0].empty:\n",
    "    print(\"Negative values found in column \",i)\n",
    "    print(df[df['SO2']<0])\n",
    "\n",
    "else:\n",
    "    print(\"Empty\")"
   ]
  },
  {
   "cell_type": "code",
   "execution_count": 151,
   "metadata": {},
   "outputs": [],
   "source": [
    "dataframe=df # storing the dataframe for later use"
   ]
  },
  {
   "cell_type": "markdown",
   "metadata": {},
   "source": [
    "<span style=\"font-size: 22px; font-weight:bold;\">FEATURE SCALING </span>"
   ]
  },
  {
   "cell_type": "code",
   "execution_count": 152,
   "metadata": {},
   "outputs": [
    {
     "data": {
      "text/html": [
       "<div>\n",
       "<style scoped>\n",
       "    .dataframe tbody tr th:only-of-type {\n",
       "        vertical-align: middle;\n",
       "    }\n",
       "\n",
       "    .dataframe tbody tr th {\n",
       "        vertical-align: top;\n",
       "    }\n",
       "\n",
       "    .dataframe thead th {\n",
       "        text-align: right;\n",
       "    }\n",
       "</style>\n",
       "<table border=\"1\" class=\"dataframe\">\n",
       "  <thead>\n",
       "    <tr style=\"text-align: right;\">\n",
       "      <th></th>\n",
       "      <th>Temperature</th>\n",
       "      <th>Humidity</th>\n",
       "      <th>PM2.5</th>\n",
       "      <th>PM10</th>\n",
       "      <th>NO2</th>\n",
       "      <th>SO2</th>\n",
       "      <th>CO</th>\n",
       "      <th>Proximity_to_Industrial_Areas</th>\n",
       "      <th>Population_Density</th>\n",
       "    </tr>\n",
       "  </thead>\n",
       "  <tbody>\n",
       "    <tr>\n",
       "      <th>count</th>\n",
       "      <td>4250.000000</td>\n",
       "      <td>4250.000000</td>\n",
       "      <td>4250.000000</td>\n",
       "      <td>4250.000000</td>\n",
       "      <td>4250.000000</td>\n",
       "      <td>4250.000000</td>\n",
       "      <td>4250.000000</td>\n",
       "      <td>4250.000000</td>\n",
       "      <td>4250.000000</td>\n",
       "    </tr>\n",
       "    <tr>\n",
       "      <th>mean</th>\n",
       "      <td>30.021671</td>\n",
       "      <td>69.935576</td>\n",
       "      <td>20.057929</td>\n",
       "      <td>30.156518</td>\n",
       "      <td>26.399671</td>\n",
       "      <td>10.052400</td>\n",
       "      <td>1.500428</td>\n",
       "      <td>8.684212</td>\n",
       "      <td>497.283059</td>\n",
       "    </tr>\n",
       "    <tr>\n",
       "      <th>std</th>\n",
       "      <td>7.079486</td>\n",
       "      <td>16.402863</td>\n",
       "      <td>25.140063</td>\n",
       "      <td>28.291211</td>\n",
       "      <td>9.415399</td>\n",
       "      <td>7.064533</td>\n",
       "      <td>0.586232</td>\n",
       "      <td>3.778317</td>\n",
       "      <td>158.671435</td>\n",
       "    </tr>\n",
       "    <tr>\n",
       "      <th>min</th>\n",
       "      <td>13.400000</td>\n",
       "      <td>36.000000</td>\n",
       "      <td>0.000000</td>\n",
       "      <td>0.000000</td>\n",
       "      <td>7.400000</td>\n",
       "      <td>0.000000</td>\n",
       "      <td>0.650000</td>\n",
       "      <td>2.500000</td>\n",
       "      <td>188.000000</td>\n",
       "    </tr>\n",
       "    <tr>\n",
       "      <th>25%</th>\n",
       "      <td>24.700000</td>\n",
       "      <td>57.800000</td>\n",
       "      <td>4.500000</td>\n",
       "      <td>11.700000</td>\n",
       "      <td>19.500000</td>\n",
       "      <td>4.900000</td>\n",
       "      <td>1.010000</td>\n",
       "      <td>5.225000</td>\n",
       "      <td>376.000000</td>\n",
       "    </tr>\n",
       "    <tr>\n",
       "      <th>50%</th>\n",
       "      <td>28.700000</td>\n",
       "      <td>69.600000</td>\n",
       "      <td>11.600000</td>\n",
       "      <td>21.200000</td>\n",
       "      <td>25.000000</td>\n",
       "      <td>7.500000</td>\n",
       "      <td>1.310000</td>\n",
       "      <td>9.700000</td>\n",
       "      <td>494.000000</td>\n",
       "    </tr>\n",
       "    <tr>\n",
       "      <th>75%</th>\n",
       "      <td>34.500000</td>\n",
       "      <td>80.200000</td>\n",
       "      <td>25.600000</td>\n",
       "      <td>37.800000</td>\n",
       "      <td>32.500000</td>\n",
       "      <td>14.175000</td>\n",
       "      <td>1.930000</td>\n",
       "      <td>11.300000</td>\n",
       "      <td>601.000000</td>\n",
       "    </tr>\n",
       "    <tr>\n",
       "      <th>max</th>\n",
       "      <td>58.600000</td>\n",
       "      <td>128.100000</td>\n",
       "      <td>295.000000</td>\n",
       "      <td>315.800000</td>\n",
       "      <td>64.900000</td>\n",
       "      <td>44.900000</td>\n",
       "      <td>3.720000</td>\n",
       "      <td>25.800000</td>\n",
       "      <td>957.000000</td>\n",
       "    </tr>\n",
       "  </tbody>\n",
       "</table>\n",
       "</div>"
      ],
      "text/plain": [
       "       Temperature     Humidity        PM2.5         PM10          NO2  \\\n",
       "count  4250.000000  4250.000000  4250.000000  4250.000000  4250.000000   \n",
       "mean     30.021671    69.935576    20.057929    30.156518    26.399671   \n",
       "std       7.079486    16.402863    25.140063    28.291211     9.415399   \n",
       "min      13.400000    36.000000     0.000000     0.000000     7.400000   \n",
       "25%      24.700000    57.800000     4.500000    11.700000    19.500000   \n",
       "50%      28.700000    69.600000    11.600000    21.200000    25.000000   \n",
       "75%      34.500000    80.200000    25.600000    37.800000    32.500000   \n",
       "max      58.600000   128.100000   295.000000   315.800000    64.900000   \n",
       "\n",
       "               SO2           CO  Proximity_to_Industrial_Areas  \\\n",
       "count  4250.000000  4250.000000                    4250.000000   \n",
       "mean     10.052400     1.500428                       8.684212   \n",
       "std       7.064533     0.586232                       3.778317   \n",
       "min       0.000000     0.650000                       2.500000   \n",
       "25%       4.900000     1.010000                       5.225000   \n",
       "50%       7.500000     1.310000                       9.700000   \n",
       "75%      14.175000     1.930000                      11.300000   \n",
       "max      44.900000     3.720000                      25.800000   \n",
       "\n",
       "       Population_Density  \n",
       "count         4250.000000  \n",
       "mean           497.283059  \n",
       "std            158.671435  \n",
       "min            188.000000  \n",
       "25%            376.000000  \n",
       "50%            494.000000  \n",
       "75%            601.000000  \n",
       "max            957.000000  "
      ]
     },
     "execution_count": 152,
     "metadata": {},
     "output_type": "execute_result"
    }
   ],
   "source": [
    "df.describe()"
   ]
  },
  {
   "cell_type": "markdown",
   "metadata": {},
   "source": [
    "CO feature is in the range of one's.  \n",
    "Temperature, NO2, SO2 are in the range of ten's.  \n",
    "Humidity, PM2.5 and PM10 are the range of hundred's.  \n",
    "\n",
    "As the features are in different ranges, we have to scale the values to bring it down to a same scale. \n"
   ]
  },
  {
   "cell_type": "code",
   "execution_count": 153,
   "metadata": {},
   "outputs": [
    {
     "data": {
      "image/png": "[encoded data removed]",
      "text/plain": [
       "<Figure size 200x200 with 1 Axes>"
      ]
     },
     "metadata": {},
     "output_type": "display_data"
    },
    {
     "data": {
      "image/png": "[encoded data removed]",
      "text/plain": [
       "<Figure size 200x200 with 1 Axes>"
      ]
     },
     "metadata": {},
     "output_type": "display_data"
    },
    {
     "data": {
      "image/png": "[encoded data removed]",
      "text/plain": [
       "<Figure size 200x200 with 1 Axes>"
      ]
     },
     "metadata": {},
     "output_type": "display_data"
    },
    {
     "data": {
      "image/png": "[encoded data removed]",
      "text/plain": [
       "<Figure size 200x200 with 1 Axes>"
      ]
     },
     "metadata": {},
     "output_type": "display_data"
    },
    {
     "data": {
      "image/png": "[encoded data removed]",
      "text/plain": [
       "<Figure size 200x200 with 1 Axes>"
      ]
     },
     "metadata": {},
     "output_type": "display_data"
    },
    {
     "data": {
      "image/png": "[encoded data removed]",
      "text/plain": [
       "<Figure size 200x200 with 1 Axes>"
      ]
     },
     "metadata": {},
     "output_type": "display_data"
    },
    {
     "data": {
      "image/png": "[encoded data removed]",
      "text/plain": [
       "<Figure size 200x200 with 1 Axes>"
      ]
     },
     "metadata": {},
     "output_type": "display_data"
    },
    {
     "data": {
      "image/png": "[encoded data removed]",
      "text/plain": [
       "<Figure size 200x200 with 1 Axes>"
      ]
     },
     "metadata": {},
     "output_type": "display_data"
    },
    {
     "data": {
      "image/png": "[encoded data removed]",
      "text/plain": [
       "<Figure size 200x200 with 1 Axes>"
      ]
     },
     "metadata": {},
     "output_type": "display_data"
    }
   ],
   "source": [
    "columns=df.drop('Air Quality', axis=1)\n",
    "for i in columns:\n",
    "    plt.figure(figsize=(2,2))\n",
    "    sn.histplot(df[i], kde=True)\n",
    "    plt.title(f\"Distribution of {i}\")\n",
    "    plt.xlabel(i)\n",
    "    plt.ylabel(\"Frequency\")\n",
    "    plt.show()"
   ]
  },
  {
   "cell_type": "markdown",
   "metadata": {},
   "source": [
    "There are two main scaling techniques - Standardization and Normalization. Standardization is used usually when the data has a normal distribution. If not, Min-Max Scaling/ Normalization technique is used."
   ]
  },
  {
   "cell_type": "code",
   "execution_count": 154,
   "metadata": {},
   "outputs": [
    {
     "name": "stdout",
     "output_type": "stream",
     "text": [
      "   Temperature  Humidity     PM2.5      PM10       NO2       SO2        CO  \\\n",
      "0     0.303097  0.033659  0.020678  0.019949  0.106087  0.118040  0.162866   \n",
      "1     0.289823  0.376764  0.023390  0.050665  0.252174  0.124722  0.117264   \n",
      "2     0.575221  0.657980  0.049492  0.112413  0.617391  0.398664  0.381107   \n",
      "3     0.626106  0.504886  0.005763  0.050032  0.412174  0.282851  0.374593   \n",
      "4     0.353982  0.627579  0.034915  0.071881  0.655652  0.262806  0.449511   \n",
      "\n",
      "   Proximity_to_Industrial_Areas  Population_Density Air Quality  \n",
      "0                       0.369099            0.472042        Good  \n",
      "1                       0.437768            0.149545        Good  \n",
      "2                       0.025751            0.631990        Poor  \n",
      "3                       0.090129            0.711313        Poor  \n",
      "4                       0.124464            0.387516        Poor  \n"
     ]
    }
   ],
   "source": [
    "scaler = MinMaxScaler()\n",
    "scaling= scaler.fit_transform(df.drop(columns=['Air Quality']))\n",
    "data=pd.DataFrame(scaling, columns = df.columns[:-1])\n",
    "data['Air Quality']=df['Air Quality']\n",
    "df=data\n",
    "print(data.head())"
   ]
  },
  {
   "cell_type": "code",
   "execution_count": 155,
   "metadata": {},
   "outputs": [
    {
     "name": "stdout",
     "output_type": "stream",
     "text": [
      "   Temperature  Humidity     PM2.5      PM10       NO2       SO2        CO  \\\n",
      "0     0.303097  0.033659  0.020678  0.019949  0.106087  0.118040  0.162866   \n",
      "1     0.289823  0.376764  0.023390  0.050665  0.252174  0.124722  0.117264   \n",
      "2     0.575221  0.657980  0.049492  0.112413  0.617391  0.398664  0.381107   \n",
      "3     0.626106  0.504886  0.005763  0.050032  0.412174  0.282851  0.374593   \n",
      "4     0.353982  0.627579  0.034915  0.071881  0.655652  0.262806  0.449511   \n",
      "\n",
      "   Proximity_to_Industrial_Areas  Population_Density Air Quality  \n",
      "0                       0.369099            0.472042        Good  \n",
      "1                       0.437768            0.149545        Good  \n",
      "2                       0.025751            0.631990        Poor  \n",
      "3                       0.090129            0.711313        Poor  \n",
      "4                       0.124464            0.387516        Poor  \n"
     ]
    }
   ],
   "source": [
    "df=data\n",
    "print(df.head())"
   ]
  },
  {
   "cell_type": "markdown",
   "metadata": {},
   "source": [
    "<span style=\"font-size: 22px; font-weight:bold;\">ENCODING CATEGORICAL DATA</span>"
   ]
  },
  {
   "cell_type": "markdown",
   "metadata": {},
   "source": [
    "Since 'Air Quality' is the target variable and since it is categorical in nature, we should convert it into numerical values."
   ]
  },
  {
   "cell_type": "code",
   "execution_count": 156,
   "metadata": {},
   "outputs": [],
   "source": [
    "df['Air Quality'] = df['Air Quality'].map({'Good':1, 'Poor':0}) #good category is assigned with value 1 and poor as 0."
   ]
  },
  {
   "cell_type": "code",
   "execution_count": 157,
   "metadata": {},
   "outputs": [
    {
     "data": {
      "text/html": [
       "<div>\n",
       "<style scoped>\n",
       "    .dataframe tbody tr th:only-of-type {\n",
       "        vertical-align: middle;\n",
       "    }\n",
       "\n",
       "    .dataframe tbody tr th {\n",
       "        vertical-align: top;\n",
       "    }\n",
       "\n",
       "    .dataframe thead th {\n",
       "        text-align: right;\n",
       "    }\n",
       "</style>\n",
       "<table border=\"1\" class=\"dataframe\">\n",
       "  <thead>\n",
       "    <tr style=\"text-align: right;\">\n",
       "      <th></th>\n",
       "      <th>Temperature</th>\n",
       "      <th>Humidity</th>\n",
       "      <th>PM2.5</th>\n",
       "      <th>PM10</th>\n",
       "      <th>NO2</th>\n",
       "      <th>SO2</th>\n",
       "      <th>CO</th>\n",
       "      <th>Proximity_to_Industrial_Areas</th>\n",
       "      <th>Population_Density</th>\n",
       "      <th>Air Quality</th>\n",
       "    </tr>\n",
       "  </thead>\n",
       "  <tbody>\n",
       "    <tr>\n",
       "      <th>0</th>\n",
       "      <td>0.303097</td>\n",
       "      <td>0.033659</td>\n",
       "      <td>0.020678</td>\n",
       "      <td>0.019949</td>\n",
       "      <td>0.106087</td>\n",
       "      <td>0.118040</td>\n",
       "      <td>0.162866</td>\n",
       "      <td>0.369099</td>\n",
       "      <td>0.472042</td>\n",
       "      <td>1</td>\n",
       "    </tr>\n",
       "    <tr>\n",
       "      <th>1</th>\n",
       "      <td>0.289823</td>\n",
       "      <td>0.376764</td>\n",
       "      <td>0.023390</td>\n",
       "      <td>0.050665</td>\n",
       "      <td>0.252174</td>\n",
       "      <td>0.124722</td>\n",
       "      <td>0.117264</td>\n",
       "      <td>0.437768</td>\n",
       "      <td>0.149545</td>\n",
       "      <td>1</td>\n",
       "    </tr>\n",
       "    <tr>\n",
       "      <th>2</th>\n",
       "      <td>0.575221</td>\n",
       "      <td>0.657980</td>\n",
       "      <td>0.049492</td>\n",
       "      <td>0.112413</td>\n",
       "      <td>0.617391</td>\n",
       "      <td>0.398664</td>\n",
       "      <td>0.381107</td>\n",
       "      <td>0.025751</td>\n",
       "      <td>0.631990</td>\n",
       "      <td>0</td>\n",
       "    </tr>\n",
       "    <tr>\n",
       "      <th>3</th>\n",
       "      <td>0.626106</td>\n",
       "      <td>0.504886</td>\n",
       "      <td>0.005763</td>\n",
       "      <td>0.050032</td>\n",
       "      <td>0.412174</td>\n",
       "      <td>0.282851</td>\n",
       "      <td>0.374593</td>\n",
       "      <td>0.090129</td>\n",
       "      <td>0.711313</td>\n",
       "      <td>0</td>\n",
       "    </tr>\n",
       "    <tr>\n",
       "      <th>4</th>\n",
       "      <td>0.353982</td>\n",
       "      <td>0.627579</td>\n",
       "      <td>0.034915</td>\n",
       "      <td>0.071881</td>\n",
       "      <td>0.655652</td>\n",
       "      <td>0.262806</td>\n",
       "      <td>0.449511</td>\n",
       "      <td>0.124464</td>\n",
       "      <td>0.387516</td>\n",
       "      <td>0</td>\n",
       "    </tr>\n",
       "  </tbody>\n",
       "</table>\n",
       "</div>"
      ],
      "text/plain": [
       "   Temperature  Humidity     PM2.5      PM10       NO2       SO2        CO  \\\n",
       "0     0.303097  0.033659  0.020678  0.019949  0.106087  0.118040  0.162866   \n",
       "1     0.289823  0.376764  0.023390  0.050665  0.252174  0.124722  0.117264   \n",
       "2     0.575221  0.657980  0.049492  0.112413  0.617391  0.398664  0.381107   \n",
       "3     0.626106  0.504886  0.005763  0.050032  0.412174  0.282851  0.374593   \n",
       "4     0.353982  0.627579  0.034915  0.071881  0.655652  0.262806  0.449511   \n",
       "\n",
       "   Proximity_to_Industrial_Areas  Population_Density  Air Quality  \n",
       "0                       0.369099            0.472042            1  \n",
       "1                       0.437768            0.149545            1  \n",
       "2                       0.025751            0.631990            0  \n",
       "3                       0.090129            0.711313            0  \n",
       "4                       0.124464            0.387516            0  "
      ]
     },
     "execution_count": 157,
     "metadata": {},
     "output_type": "execute_result"
    }
   ],
   "source": [
    "df.head() #checking"
   ]
  },
  {
   "cell_type": "markdown",
   "metadata": {},
   "source": [
    "<span style=\"font-size: 22px; font-weight:bold;\">TEST AND TRAIN SPLIT</span>"
   ]
  },
  {
   "cell_type": "code",
   "execution_count": 158,
   "metadata": {},
   "outputs": [],
   "source": [
    "x= df.loc[:, df.columns!='Air Quality']"
   ]
  },
  {
   "cell_type": "code",
   "execution_count": 159,
   "metadata": {},
   "outputs": [
    {
     "data": {
      "text/html": [
       "<div>\n",
       "<style scoped>\n",
       "    .dataframe tbody tr th:only-of-type {\n",
       "        vertical-align: middle;\n",
       "    }\n",
       "\n",
       "    .dataframe tbody tr th {\n",
       "        vertical-align: top;\n",
       "    }\n",
       "\n",
       "    .dataframe thead th {\n",
       "        text-align: right;\n",
       "    }\n",
       "</style>\n",
       "<table border=\"1\" class=\"dataframe\">\n",
       "  <thead>\n",
       "    <tr style=\"text-align: right;\">\n",
       "      <th></th>\n",
       "      <th>Temperature</th>\n",
       "      <th>Humidity</th>\n",
       "      <th>PM2.5</th>\n",
       "      <th>PM10</th>\n",
       "      <th>NO2</th>\n",
       "      <th>SO2</th>\n",
       "      <th>CO</th>\n",
       "      <th>Proximity_to_Industrial_Areas</th>\n",
       "      <th>Population_Density</th>\n",
       "    </tr>\n",
       "  </thead>\n",
       "  <tbody>\n",
       "    <tr>\n",
       "      <th>0</th>\n",
       "      <td>0.303097</td>\n",
       "      <td>0.033659</td>\n",
       "      <td>0.020678</td>\n",
       "      <td>0.019949</td>\n",
       "      <td>0.106087</td>\n",
       "      <td>0.118040</td>\n",
       "      <td>0.162866</td>\n",
       "      <td>0.369099</td>\n",
       "      <td>0.472042</td>\n",
       "    </tr>\n",
       "    <tr>\n",
       "      <th>1</th>\n",
       "      <td>0.289823</td>\n",
       "      <td>0.376764</td>\n",
       "      <td>0.023390</td>\n",
       "      <td>0.050665</td>\n",
       "      <td>0.252174</td>\n",
       "      <td>0.124722</td>\n",
       "      <td>0.117264</td>\n",
       "      <td>0.437768</td>\n",
       "      <td>0.149545</td>\n",
       "    </tr>\n",
       "    <tr>\n",
       "      <th>2</th>\n",
       "      <td>0.575221</td>\n",
       "      <td>0.657980</td>\n",
       "      <td>0.049492</td>\n",
       "      <td>0.112413</td>\n",
       "      <td>0.617391</td>\n",
       "      <td>0.398664</td>\n",
       "      <td>0.381107</td>\n",
       "      <td>0.025751</td>\n",
       "      <td>0.631990</td>\n",
       "    </tr>\n",
       "    <tr>\n",
       "      <th>3</th>\n",
       "      <td>0.626106</td>\n",
       "      <td>0.504886</td>\n",
       "      <td>0.005763</td>\n",
       "      <td>0.050032</td>\n",
       "      <td>0.412174</td>\n",
       "      <td>0.282851</td>\n",
       "      <td>0.374593</td>\n",
       "      <td>0.090129</td>\n",
       "      <td>0.711313</td>\n",
       "    </tr>\n",
       "    <tr>\n",
       "      <th>4</th>\n",
       "      <td>0.353982</td>\n",
       "      <td>0.627579</td>\n",
       "      <td>0.034915</td>\n",
       "      <td>0.071881</td>\n",
       "      <td>0.655652</td>\n",
       "      <td>0.262806</td>\n",
       "      <td>0.449511</td>\n",
       "      <td>0.124464</td>\n",
       "      <td>0.387516</td>\n",
       "    </tr>\n",
       "  </tbody>\n",
       "</table>\n",
       "</div>"
      ],
      "text/plain": [
       "   Temperature  Humidity     PM2.5      PM10       NO2       SO2        CO  \\\n",
       "0     0.303097  0.033659  0.020678  0.019949  0.106087  0.118040  0.162866   \n",
       "1     0.289823  0.376764  0.023390  0.050665  0.252174  0.124722  0.117264   \n",
       "2     0.575221  0.657980  0.049492  0.112413  0.617391  0.398664  0.381107   \n",
       "3     0.626106  0.504886  0.005763  0.050032  0.412174  0.282851  0.374593   \n",
       "4     0.353982  0.627579  0.034915  0.071881  0.655652  0.262806  0.449511   \n",
       "\n",
       "   Proximity_to_Industrial_Areas  Population_Density  \n",
       "0                       0.369099            0.472042  \n",
       "1                       0.437768            0.149545  \n",
       "2                       0.025751            0.631990  \n",
       "3                       0.090129            0.711313  \n",
       "4                       0.124464            0.387516  "
      ]
     },
     "execution_count": 159,
     "metadata": {},
     "output_type": "execute_result"
    }
   ],
   "source": [
    "x.head()"
   ]
  },
  {
   "cell_type": "code",
   "execution_count": 160,
   "metadata": {},
   "outputs": [],
   "source": [
    "y=df['Air Quality']"
   ]
  },
  {
   "cell_type": "code",
   "execution_count": 161,
   "metadata": {},
   "outputs": [
    {
     "data": {
      "text/plain": [
       "0    1\n",
       "1    1\n",
       "2    0\n",
       "3    0\n",
       "4    0\n",
       "Name: Air Quality, dtype: int64"
      ]
     },
     "execution_count": 161,
     "metadata": {},
     "output_type": "execute_result"
    }
   ],
   "source": [
    "y.head()"
   ]
  },
  {
   "cell_type": "code",
   "execution_count": 162,
   "metadata": {},
   "outputs": [],
   "source": [
    "X_train, X_test, y_train, y_test = train_test_split(x,y,test_size=0.2,stratify=y,random_state=42) # 80:20 split"
   ]
  },
  {
   "cell_type": "markdown",
   "metadata": {},
   "source": [
    "<span style=\"font-size: 22px; font-weight:bold;\">LOGISTIC REGRESSION </span>"
   ]
  },
  {
   "cell_type": "code",
   "execution_count": 163,
   "metadata": {},
   "outputs": [
    {
     "data": {
      "text/html": [
       "<style>#sk-container-id-3 {\n",
       "  /* Definition of color scheme common for light and dark mode */\n",
       "  --sklearn-color-text: #000;\n",
       "  --sklearn-color-text-muted: #666;\n",
       "  --sklearn-color-line: gray;\n",
       "  /* Definition of color scheme for unfitted estimators */\n",
       "  --sklearn-color-unfitted-level-0: #fff5e6;\n",
       "  --sklearn-color-unfitted-level-1: #f6e4d2;\n",
       "  --sklearn-color-unfitted-level-2: #ffe0b3;\n",
       "  --sklearn-color-unfitted-level-3: chocolate;\n",
       "  /* Definition of color scheme for fitted estimators */\n",
       "  --sklearn-color-fitted-level-0: #f0f8ff;\n",
       "  --sklearn-color-fitted-level-1: #d4ebff;\n",
       "  --sklearn-color-fitted-level-2: #b3dbfd;\n",
       "  --sklearn-color-fitted-level-3: cornflowerblue;\n",
       "\n",
       "  /* Specific color for light theme */\n",
       "  --sklearn-color-text-on-default-background: var(--sg-text-color, var(--theme-code-foreground, var(--jp-content-font-color1, black)));\n",
       "  --sklearn-color-background: var(--sg-background-color, var(--theme-background, var(--jp-layout-color0, white)));\n",
       "  --sklearn-color-border-box: var(--sg-text-color, var(--theme-code-foreground, var(--jp-content-font-color1, black)));\n",
       "  --sklearn-color-icon: #696969;\n",
       "\n",
       "  @media (prefers-color-scheme: dark) {\n",
       "    /* Redefinition of color scheme for dark theme */\n",
       "    --sklearn-color-text-on-default-background: var(--sg-text-color, var(--theme-code-foreground, var(--jp-content-font-color1, white)));\n",
       "    --sklearn-color-background: var(--sg-background-color, var(--theme-background, var(--jp-layout-color0, #111)));\n",
       "    --sklearn-color-border-box: var(--sg-text-color, var(--theme-code-foreground, var(--jp-content-font-color1, white)));\n",
       "    --sklearn-color-icon: #878787;\n",
       "  }\n",
       "}\n",
       "\n",
       "#sk-container-id-3 {\n",
       "  color: var(--sklearn-color-text);\n",
       "}\n",
       "\n",
       "#sk-container-id-3 pre {\n",
       "  padding: 0;\n",
       "}\n",
       "\n",
       "#sk-container-id-3 input.sk-hidden--visually {\n",
       "  border: 0;\n",
       "  clip: rect(1px 1px 1px 1px);\n",
       "  clip: rect(1px, 1px, 1px, 1px);\n",
       "  height: 1px;\n",
       "  margin: -1px;\n",
       "  overflow: hidden;\n",
       "  padding: 0;\n",
       "  position: absolute;\n",
       "  width: 1px;\n",
       "}\n",
       "\n",
       "#sk-container-id-3 div.sk-dashed-wrapped {\n",
       "  border: 1px dashed var(--sklearn-color-line);\n",
       "  margin: 0 0.4em 0.5em 0.4em;\n",
       "  box-sizing: border-box;\n",
       "  padding-bottom: 0.4em;\n",
       "  background-color: var(--sklearn-color-background);\n",
       "}\n",
       "\n",
       "#sk-container-id-3 div.sk-container {\n",
       "  /* jupyter's `normalize.less` sets `[hidden] { display: none; }`\n",
       "     but bootstrap.min.css set `[hidden] { display: none !important; }`\n",
       "     so we also need the `!important` here to be able to override the\n",
       "     default hidden behavior on the sphinx rendered scikit-learn.org.\n",
       "     See: https://github.com/scikit-learn/scikit-learn/issues/21755 */\n",
       "  display: inline-block !important;\n",
       "  position: relative;\n",
       "}\n",
       "\n",
       "#sk-container-id-3 div.sk-text-repr-fallback {\n",
       "  display: none;\n",
       "}\n",
       "\n",
       "div.sk-parallel-item,\n",
       "div.sk-serial,\n",
       "div.sk-item {\n",
       "  /* draw centered vertical line to link estimators */\n",
       "  background-image: linear-gradient(var(--sklearn-color-text-on-default-background), var(--sklearn-color-text-on-default-background));\n",
       "  background-size: 2px 100%;\n",
       "  background-repeat: no-repeat;\n",
       "  background-position: center center;\n",
       "}\n",
       "\n",
       "/* Parallel-specific style estimator block */\n",
       "\n",
       "#sk-container-id-3 div.sk-parallel-item::after {\n",
       "  content: \"\";\n",
       "  width: 100%;\n",
       "  border-bottom: 2px solid var(--sklearn-color-text-on-default-background);\n",
       "  flex-grow: 1;\n",
       "}\n",
       "\n",
       "#sk-container-id-3 div.sk-parallel {\n",
       "  display: flex;\n",
       "  align-items: stretch;\n",
       "  justify-content: center;\n",
       "  background-color: var(--sklearn-color-background);\n",
       "  position: relative;\n",
       "}\n",
       "\n",
       "#sk-container-id-3 div.sk-parallel-item {\n",
       "  display: flex;\n",
       "  flex-direction: column;\n",
       "}\n",
       "\n",
       "#sk-container-id-3 div.sk-parallel-item:first-child::after {\n",
       "  align-self: flex-end;\n",
       "  width: 50%;\n",
       "}\n",
       "\n",
       "#sk-container-id-3 div.sk-parallel-item:last-child::after {\n",
       "  align-self: flex-start;\n",
       "  width: 50%;\n",
       "}\n",
       "\n",
       "#sk-container-id-3 div.sk-parallel-item:only-child::after {\n",
       "  width: 0;\n",
       "}\n",
       "\n",
       "/* Serial-specific style estimator block */\n",
       "\n",
       "#sk-container-id-3 div.sk-serial {\n",
       "  display: flex;\n",
       "  flex-direction: column;\n",
       "  align-items: center;\n",
       "  background-color: var(--sklearn-color-background);\n",
       "  padding-right: 1em;\n",
       "  padding-left: 1em;\n",
       "}\n",
       "\n",
       "\n",
       "/* Toggleable style: style used for estimator/Pipeline/ColumnTransformer box that is\n",
       "clickable and can be expanded/collapsed.\n",
       "- Pipeline and ColumnTransformer use this feature and define the default style\n",
       "- Estimators will overwrite some part of the style using the `sk-estimator` class\n",
       "*/\n",
       "\n",
       "/* Pipeline and ColumnTransformer style (default) */\n",
       "\n",
       "#sk-container-id-3 div.sk-toggleable {\n",
       "  /* Default theme specific background. It is overwritten whether we have a\n",
       "  specific estimator or a Pipeline/ColumnTransformer */\n",
       "  background-color: var(--sklearn-color-background);\n",
       "}\n",
       "\n",
       "/* Toggleable label */\n",
       "#sk-container-id-3 label.sk-toggleable__label {\n",
       "  cursor: pointer;\n",
       "  display: flex;\n",
       "  width: 100%;\n",
       "  margin-bottom: 0;\n",
       "  padding: 0.5em;\n",
       "  box-sizing: border-box;\n",
       "  text-align: center;\n",
       "  align-items: start;\n",
       "  justify-content: space-between;\n",
       "  gap: 0.5em;\n",
       "}\n",
       "\n",
       "#sk-container-id-3 label.sk-toggleable__label .caption {\n",
       "  font-size: 0.6rem;\n",
       "  font-weight: lighter;\n",
       "  color: var(--sklearn-color-text-muted);\n",
       "}\n",
       "\n",
       "#sk-container-id-3 label.sk-toggleable__label-arrow:before {\n",
       "  /* Arrow on the left of the label */\n",
       "  content: \"▸\";\n",
       "  float: left;\n",
       "  margin-right: 0.25em;\n",
       "  color: var(--sklearn-color-icon);\n",
       "}\n",
       "\n",
       "#sk-container-id-3 label.sk-toggleable__label-arrow:hover:before {\n",
       "  color: var(--sklearn-color-text);\n",
       "}\n",
       "\n",
       "/* Toggleable content - dropdown */\n",
       "\n",
       "#sk-container-id-3 div.sk-toggleable__content {\n",
       "  max-height: 0;\n",
       "  max-width: 0;\n",
       "  overflow: hidden;\n",
       "  text-align: left;\n",
       "  /* unfitted */\n",
       "  background-color: var(--sklearn-color-unfitted-level-0);\n",
       "}\n",
       "\n",
       "#sk-container-id-3 div.sk-toggleable__content.fitted {\n",
       "  /* fitted */\n",
       "  background-color: var(--sklearn-color-fitted-level-0);\n",
       "}\n",
       "\n",
       "#sk-container-id-3 div.sk-toggleable__content pre {\n",
       "  margin: 0.2em;\n",
       "  border-radius: 0.25em;\n",
       "  color: var(--sklearn-color-text);\n",
       "  /* unfitted */\n",
       "  background-color: var(--sklearn-color-unfitted-level-0);\n",
       "}\n",
       "\n",
       "#sk-container-id-3 div.sk-toggleable__content.fitted pre {\n",
       "  /* unfitted */\n",
       "  background-color: var(--sklearn-color-fitted-level-0);\n",
       "}\n",
       "\n",
       "#sk-container-id-3 input.sk-toggleable__control:checked~div.sk-toggleable__content {\n",
       "  /* Expand drop-down */\n",
       "  max-height: 200px;\n",
       "  max-width: 100%;\n",
       "  overflow: auto;\n",
       "}\n",
       "\n",
       "#sk-container-id-3 input.sk-toggleable__control:checked~label.sk-toggleable__label-arrow:before {\n",
       "  content: \"▾\";\n",
       "}\n",
       "\n",
       "/* Pipeline/ColumnTransformer-specific style */\n",
       "\n",
       "#sk-container-id-3 div.sk-label input.sk-toggleable__control:checked~label.sk-toggleable__label {\n",
       "  color: var(--sklearn-color-text);\n",
       "  background-color: var(--sklearn-color-unfitted-level-2);\n",
       "}\n",
       "\n",
       "#sk-container-id-3 div.sk-label.fitted input.sk-toggleable__control:checked~label.sk-toggleable__label {\n",
       "  background-color: var(--sklearn-color-fitted-level-2);\n",
       "}\n",
       "\n",
       "/* Estimator-specific style */\n",
       "\n",
       "/* Colorize estimator box */\n",
       "#sk-container-id-3 div.sk-estimator input.sk-toggleable__control:checked~label.sk-toggleable__label {\n",
       "  /* unfitted */\n",
       "  background-color: var(--sklearn-color-unfitted-level-2);\n",
       "}\n",
       "\n",
       "#sk-container-id-3 div.sk-estimator.fitted input.sk-toggleable__control:checked~label.sk-toggleable__label {\n",
       "  /* fitted */\n",
       "  background-color: var(--sklearn-color-fitted-level-2);\n",
       "}\n",
       "\n",
       "#sk-container-id-3 div.sk-label label.sk-toggleable__label,\n",
       "#sk-container-id-3 div.sk-label label {\n",
       "  /* The background is the default theme color */\n",
       "  color: var(--sklearn-color-text-on-default-background);\n",
       "}\n",
       "\n",
       "/* On hover, darken the color of the background */\n",
       "#sk-container-id-3 div.sk-label:hover label.sk-toggleable__label {\n",
       "  color: var(--sklearn-color-text);\n",
       "  background-color: var(--sklearn-color-unfitted-level-2);\n",
       "}\n",
       "\n",
       "/* Label box, darken color on hover, fitted */\n",
       "#sk-container-id-3 div.sk-label.fitted:hover label.sk-toggleable__label.fitted {\n",
       "  color: var(--sklearn-color-text);\n",
       "  background-color: var(--sklearn-color-fitted-level-2);\n",
       "}\n",
       "\n",
       "/* Estimator label */\n",
       "\n",
       "#sk-container-id-3 div.sk-label label {\n",
       "  font-family: monospace;\n",
       "  font-weight: bold;\n",
       "  display: inline-block;\n",
       "  line-height: 1.2em;\n",
       "}\n",
       "\n",
       "#sk-container-id-3 div.sk-label-container {\n",
       "  text-align: center;\n",
       "}\n",
       "\n",
       "/* Estimator-specific */\n",
       "#sk-container-id-3 div.sk-estimator {\n",
       "  font-family: monospace;\n",
       "  border: 1px dotted var(--sklearn-color-border-box);\n",
       "  border-radius: 0.25em;\n",
       "  box-sizing: border-box;\n",
       "  margin-bottom: 0.5em;\n",
       "  /* unfitted */\n",
       "  background-color: var(--sklearn-color-unfitted-level-0);\n",
       "}\n",
       "\n",
       "#sk-container-id-3 div.sk-estimator.fitted {\n",
       "  /* fitted */\n",
       "  background-color: var(--sklearn-color-fitted-level-0);\n",
       "}\n",
       "\n",
       "/* on hover */\n",
       "#sk-container-id-3 div.sk-estimator:hover {\n",
       "  /* unfitted */\n",
       "  background-color: var(--sklearn-color-unfitted-level-2);\n",
       "}\n",
       "\n",
       "#sk-container-id-3 div.sk-estimator.fitted:hover {\n",
       "  /* fitted */\n",
       "  background-color: var(--sklearn-color-fitted-level-2);\n",
       "}\n",
       "\n",
       "/* Specification for estimator info (e.g. \"i\" and \"?\") */\n",
       "\n",
       "/* Common style for \"i\" and \"?\" */\n",
       "\n",
       ".sk-estimator-doc-link,\n",
       "a:link.sk-estimator-doc-link,\n",
       "a:visited.sk-estimator-doc-link {\n",
       "  float: right;\n",
       "  font-size: smaller;\n",
       "  line-height: 1em;\n",
       "  font-family: monospace;\n",
       "  background-color: var(--sklearn-color-background);\n",
       "  border-radius: 1em;\n",
       "  height: 1em;\n",
       "  width: 1em;\n",
       "  text-decoration: none !important;\n",
       "  margin-left: 0.5em;\n",
       "  text-align: center;\n",
       "  /* unfitted */\n",
       "  border: var(--sklearn-color-unfitted-level-1) 1pt solid;\n",
       "  color: var(--sklearn-color-unfitted-level-1);\n",
       "}\n",
       "\n",
       ".sk-estimator-doc-link.fitted,\n",
       "a:link.sk-estimator-doc-link.fitted,\n",
       "a:visited.sk-estimator-doc-link.fitted {\n",
       "  /* fitted */\n",
       "  border: var(--sklearn-color-fitted-level-1) 1pt solid;\n",
       "  color: var(--sklearn-color-fitted-level-1);\n",
       "}\n",
       "\n",
       "/* On hover */\n",
       "div.sk-estimator:hover .sk-estimator-doc-link:hover,\n",
       ".sk-estimator-doc-link:hover,\n",
       "div.sk-label-container:hover .sk-estimator-doc-link:hover,\n",
       ".sk-estimator-doc-link:hover {\n",
       "  /* unfitted */\n",
       "  background-color: var(--sklearn-color-unfitted-level-3);\n",
       "  color: var(--sklearn-color-background);\n",
       "  text-decoration: none;\n",
       "}\n",
       "\n",
       "div.sk-estimator.fitted:hover .sk-estimator-doc-link.fitted:hover,\n",
       ".sk-estimator-doc-link.fitted:hover,\n",
       "div.sk-label-container:hover .sk-estimator-doc-link.fitted:hover,\n",
       ".sk-estimator-doc-link.fitted:hover {\n",
       "  /* fitted */\n",
       "  background-color: var(--sklearn-color-fitted-level-3);\n",
       "  color: var(--sklearn-color-background);\n",
       "  text-decoration: none;\n",
       "}\n",
       "\n",
       "/* Span, style for the box shown on hovering the info icon */\n",
       ".sk-estimator-doc-link span {\n",
       "  display: none;\n",
       "  z-index: 9999;\n",
       "  position: relative;\n",
       "  font-weight: normal;\n",
       "  right: .2ex;\n",
       "  padding: .5ex;\n",
       "  margin: .5ex;\n",
       "  width: min-content;\n",
       "  min-width: 20ex;\n",
       "  max-width: 50ex;\n",
       "  color: var(--sklearn-color-text);\n",
       "  box-shadow: 2pt 2pt 4pt #999;\n",
       "  /* unfitted */\n",
       "  background: var(--sklearn-color-unfitted-level-0);\n",
       "  border: .5pt solid var(--sklearn-color-unfitted-level-3);\n",
       "}\n",
       "\n",
       ".sk-estimator-doc-link.fitted span {\n",
       "  /* fitted */\n",
       "  background: var(--sklearn-color-fitted-level-0);\n",
       "  border: var(--sklearn-color-fitted-level-3);\n",
       "}\n",
       "\n",
       ".sk-estimator-doc-link:hover span {\n",
       "  display: block;\n",
       "}\n",
       "\n",
       "/* \"?\"-specific style due to the `<a>` HTML tag */\n",
       "\n",
       "#sk-container-id-3 a.estimator_doc_link {\n",
       "  float: right;\n",
       "  font-size: 1rem;\n",
       "  line-height: 1em;\n",
       "  font-family: monospace;\n",
       "  background-color: var(--sklearn-color-background);\n",
       "  border-radius: 1rem;\n",
       "  height: 1rem;\n",
       "  width: 1rem;\n",
       "  text-decoration: none;\n",
       "  /* unfitted */\n",
       "  color: var(--sklearn-color-unfitted-level-1);\n",
       "  border: var(--sklearn-color-unfitted-level-1) 1pt solid;\n",
       "}\n",
       "\n",
       "#sk-container-id-3 a.estimator_doc_link.fitted {\n",
       "  /* fitted */\n",
       "  border: var(--sklearn-color-fitted-level-1) 1pt solid;\n",
       "  color: var(--sklearn-color-fitted-level-1);\n",
       "}\n",
       "\n",
       "/* On hover */\n",
       "#sk-container-id-3 a.estimator_doc_link:hover {\n",
       "  /* unfitted */\n",
       "  background-color: var(--sklearn-color-unfitted-level-3);\n",
       "  color: var(--sklearn-color-background);\n",
       "  text-decoration: none;\n",
       "}\n",
       "\n",
       "#sk-container-id-3 a.estimator_doc_link.fitted:hover {\n",
       "  /* fitted */\n",
       "  background-color: var(--sklearn-color-fitted-level-3);\n",
       "}\n",
       "</style><div id=\"sk-container-id-3\" class=\"sk-top-container\"><div class=\"sk-text-repr-fallback\"><pre>LogisticRegression(max_iter=500)</pre><b>In a Jupyter environment, please rerun this cell to show the HTML representation or trust the notebook. <br />On GitHub, the HTML representation is unable to render, please try loading this page with nbviewer.org.</b></div><div class=\"sk-container\" hidden><div class=\"sk-item\"><div class=\"sk-estimator fitted sk-toggleable\"><input class=\"sk-toggleable__control sk-hidden--visually\" id=\"sk-estimator-id-3\" type=\"checkbox\" checked><label for=\"sk-estimator-id-3\" class=\"sk-toggleable__label fitted sk-toggleable__label-arrow\"><div><div>LogisticRegression</div></div><div><a class=\"sk-estimator-doc-link fitted\" rel=\"noreferrer\" target=\"_blank\" href=\"https://scikit-learn.org/1.6/modules/generated/sklearn.linear_model.LogisticRegression.html\">?<span>Documentation for LogisticRegression</span></a><span class=\"sk-estimator-doc-link fitted\">i<span>Fitted</span></span></div></label><div class=\"sk-toggleable__content fitted\"><pre>LogisticRegression(max_iter=500)</pre></div> </div></div></div></div>"
      ],
      "text/plain": [
       "LogisticRegression(max_iter=500)"
      ]
     },
     "execution_count": 163,
     "metadata": {},
     "output_type": "execute_result"
    }
   ],
   "source": [
    "model1=LogisticRegression(max_iter=500)\n",
    "model1.fit(X_train, y_train)"
   ]
  },
  {
   "cell_type": "code",
   "execution_count": 164,
   "metadata": {},
   "outputs": [
    {
     "name": "stdout",
     "output_type": "stream",
     "text": [
      "Training Accuracy 0.9723529411764706\n",
      "Testing Accuracy 0.9705882352941176\n"
     ]
    }
   ],
   "source": [
    "training_pred= model1.predict(X_train)\n",
    "training_accuracy = accuracy_score(y_train, training_pred)\n",
    "print(\"Training Accuracy\", training_accuracy)\n",
    "\n",
    "predictions= model1.predict(X_test)\n",
    "accuracy = accuracy_score(y_test, predictions)\n",
    "print(\"Testing Accuracy\", accuracy )\n"
   ]
  },
  {
   "cell_type": "markdown",
   "metadata": {},
   "source": [
    "Testing accuracy, training accuracy values are very close and are high. Therefore, there is no significant overfitting/underfitting in the model."
   ]
  },
  {
   "cell_type": "code",
   "execution_count": 165,
   "metadata": {},
   "outputs": [
    {
     "data": {
      "image/png": "[encoded data removed]",
      "text/plain": [
       "<Figure size 640x480 with 2 Axes>"
      ]
     },
     "metadata": {},
     "output_type": "display_data"
    }
   ],
   "source": [
    "#calculates True Positive, False Positive, True Negative and False Negative.\n",
    "# shows in detail how the model performed\n",
    "\n",
    "confusionmatrix= confusion_matrix(y_test, predictions) \n",
    "matrix=ConfusionMatrixDisplay(confusion_matrix=confusionmatrix, display_labels=[0,1])\n",
    "matrix.plot()\n",
    "plt.show()"
   ]
  },
  {
   "cell_type": "code",
   "execution_count": 166,
   "metadata": {},
   "outputs": [],
   "source": [
    "#defining the model as a function for later use.\n",
    "def logisticregression(x_train, y_train, x_test, y_test): \n",
    "    \n",
    "    model1=LogisticRegression(max_iter=500)\n",
    "    model1.fit(x_train, y_train)\n",
    "\n",
    "    training_pred= model1.predict(x_train)\n",
    "    training_accuracy = accuracy_score(y_train, training_pred)\n",
    "    print(\"Training Accuracy\", training_accuracy)\n",
    "    \n",
    "    predictions= model1.predict(x_test)\n",
    "    accuracy = accuracy_score(y_test, predictions)\n",
    "    print(\"Testing Accuracy\", accuracy )\n"
   ]
  },
  {
   "cell_type": "markdown",
   "metadata": {},
   "source": [
    "<span style=\"font-size: 22px; font-weight:bold;\">RANDOM FOREST</span>"
   ]
  },
  {
   "cell_type": "code",
   "execution_count": 167,
   "metadata": {},
   "outputs": [],
   "source": [
    "model3=RandomForestClassifier(n_estimators=100, max_depth=None,min_samples_split=5, min_samples_leaf=5)"
   ]
  },
  {
   "cell_type": "code",
   "execution_count": 168,
   "metadata": {},
   "outputs": [
    {
     "data": {
      "text/html": [
       "<style>#sk-container-id-4 {\n",
       "  /* Definition of color scheme common for light and dark mode */\n",
       "  --sklearn-color-text: #000;\n",
       "  --sklearn-color-text-muted: #666;\n",
       "  --sklearn-color-line: gray;\n",
       "  /* Definition of color scheme for unfitted estimators */\n",
       "  --sklearn-color-unfitted-level-0: #fff5e6;\n",
       "  --sklearn-color-unfitted-level-1: #f6e4d2;\n",
       "  --sklearn-color-unfitted-level-2: #ffe0b3;\n",
       "  --sklearn-color-unfitted-level-3: chocolate;\n",
       "  /* Definition of color scheme for fitted estimators */\n",
       "  --sklearn-color-fitted-level-0: #f0f8ff;\n",
       "  --sklearn-color-fitted-level-1: #d4ebff;\n",
       "  --sklearn-color-fitted-level-2: #b3dbfd;\n",
       "  --sklearn-color-fitted-level-3: cornflowerblue;\n",
       "\n",
       "  /* Specific color for light theme */\n",
       "  --sklearn-color-text-on-default-background: var(--sg-text-color, var(--theme-code-foreground, var(--jp-content-font-color1, black)));\n",
       "  --sklearn-color-background: var(--sg-background-color, var(--theme-background, var(--jp-layout-color0, white)));\n",
       "  --sklearn-color-border-box: var(--sg-text-color, var(--theme-code-foreground, var(--jp-content-font-color1, black)));\n",
       "  --sklearn-color-icon: #696969;\n",
       "\n",
       "  @media (prefers-color-scheme: dark) {\n",
       "    /* Redefinition of color scheme for dark theme */\n",
       "    --sklearn-color-text-on-default-background: var(--sg-text-color, var(--theme-code-foreground, var(--jp-content-font-color1, white)));\n",
       "    --sklearn-color-background: var(--sg-background-color, var(--theme-background, var(--jp-layout-color0, #111)));\n",
       "    --sklearn-color-border-box: var(--sg-text-color, var(--theme-code-foreground, var(--jp-content-font-color1, white)));\n",
       "    --sklearn-color-icon: #878787;\n",
       "  }\n",
       "}\n",
       "\n",
       "#sk-container-id-4 {\n",
       "  color: var(--sklearn-color-text);\n",
       "}\n",
       "\n",
       "#sk-container-id-4 pre {\n",
       "  padding: 0;\n",
       "}\n",
       "\n",
       "#sk-container-id-4 input.sk-hidden--visually {\n",
       "  border: 0;\n",
       "  clip: rect(1px 1px 1px 1px);\n",
       "  clip: rect(1px, 1px, 1px, 1px);\n",
       "  height: 1px;\n",
       "  margin: -1px;\n",
       "  overflow: hidden;\n",
       "  padding: 0;\n",
       "  position: absolute;\n",
       "  width: 1px;\n",
       "}\n",
       "\n",
       "#sk-container-id-4 div.sk-dashed-wrapped {\n",
       "  border: 1px dashed var(--sklearn-color-line);\n",
       "  margin: 0 0.4em 0.5em 0.4em;\n",
       "  box-sizing: border-box;\n",
       "  padding-bottom: 0.4em;\n",
       "  background-color: var(--sklearn-color-background);\n",
       "}\n",
       "\n",
       "#sk-container-id-4 div.sk-container {\n",
       "  /* jupyter's `normalize.less` sets `[hidden] { display: none; }`\n",
       "     but bootstrap.min.css set `[hidden] { display: none !important; }`\n",
       "     so we also need the `!important` here to be able to override the\n",
       "     default hidden behavior on the sphinx rendered scikit-learn.org.\n",
       "     See: https://github.com/scikit-learn/scikit-learn/issues/21755 */\n",
       "  display: inline-block !important;\n",
       "  position: relative;\n",
       "}\n",
       "\n",
       "#sk-container-id-4 div.sk-text-repr-fallback {\n",
       "  display: none;\n",
       "}\n",
       "\n",
       "div.sk-parallel-item,\n",
       "div.sk-serial,\n",
       "div.sk-item {\n",
       "  /* draw centered vertical line to link estimators */\n",
       "  background-image: linear-gradient(var(--sklearn-color-text-on-default-background), var(--sklearn-color-text-on-default-background));\n",
       "  background-size: 2px 100%;\n",
       "  background-repeat: no-repeat;\n",
       "  background-position: center center;\n",
       "}\n",
       "\n",
       "/* Parallel-specific style estimator block */\n",
       "\n",
       "#sk-container-id-4 div.sk-parallel-item::after {\n",
       "  content: \"\";\n",
       "  width: 100%;\n",
       "  border-bottom: 2px solid var(--sklearn-color-text-on-default-background);\n",
       "  flex-grow: 1;\n",
       "}\n",
       "\n",
       "#sk-container-id-4 div.sk-parallel {\n",
       "  display: flex;\n",
       "  align-items: stretch;\n",
       "  justify-content: center;\n",
       "  background-color: var(--sklearn-color-background);\n",
       "  position: relative;\n",
       "}\n",
       "\n",
       "#sk-container-id-4 div.sk-parallel-item {\n",
       "  display: flex;\n",
       "  flex-direction: column;\n",
       "}\n",
       "\n",
       "#sk-container-id-4 div.sk-parallel-item:first-child::after {\n",
       "  align-self: flex-end;\n",
       "  width: 50%;\n",
       "}\n",
       "\n",
       "#sk-container-id-4 div.sk-parallel-item:last-child::after {\n",
       "  align-self: flex-start;\n",
       "  width: 50%;\n",
       "}\n",
       "\n",
       "#sk-container-id-4 div.sk-parallel-item:only-child::after {\n",
       "  width: 0;\n",
       "}\n",
       "\n",
       "/* Serial-specific style estimator block */\n",
       "\n",
       "#sk-container-id-4 div.sk-serial {\n",
       "  display: flex;\n",
       "  flex-direction: column;\n",
       "  align-items: center;\n",
       "  background-color: var(--sklearn-color-background);\n",
       "  padding-right: 1em;\n",
       "  padding-left: 1em;\n",
       "}\n",
       "\n",
       "\n",
       "/* Toggleable style: style used for estimator/Pipeline/ColumnTransformer box that is\n",
       "clickable and can be expanded/collapsed.\n",
       "- Pipeline and ColumnTransformer use this feature and define the default style\n",
       "- Estimators will overwrite some part of the style using the `sk-estimator` class\n",
       "*/\n",
       "\n",
       "/* Pipeline and ColumnTransformer style (default) */\n",
       "\n",
       "#sk-container-id-4 div.sk-toggleable {\n",
       "  /* Default theme specific background. It is overwritten whether we have a\n",
       "  specific estimator or a Pipeline/ColumnTransformer */\n",
       "  background-color: var(--sklearn-color-background);\n",
       "}\n",
       "\n",
       "/* Toggleable label */\n",
       "#sk-container-id-4 label.sk-toggleable__label {\n",
       "  cursor: pointer;\n",
       "  display: flex;\n",
       "  width: 100%;\n",
       "  margin-bottom: 0;\n",
       "  padding: 0.5em;\n",
       "  box-sizing: border-box;\n",
       "  text-align: center;\n",
       "  align-items: start;\n",
       "  justify-content: space-between;\n",
       "  gap: 0.5em;\n",
       "}\n",
       "\n",
       "#sk-container-id-4 label.sk-toggleable__label .caption {\n",
       "  font-size: 0.6rem;\n",
       "  font-weight: lighter;\n",
       "  color: var(--sklearn-color-text-muted);\n",
       "}\n",
       "\n",
       "#sk-container-id-4 label.sk-toggleable__label-arrow:before {\n",
       "  /* Arrow on the left of the label */\n",
       "  content: \"▸\";\n",
       "  float: left;\n",
       "  margin-right: 0.25em;\n",
       "  color: var(--sklearn-color-icon);\n",
       "}\n",
       "\n",
       "#sk-container-id-4 label.sk-toggleable__label-arrow:hover:before {\n",
       "  color: var(--sklearn-color-text);\n",
       "}\n",
       "\n",
       "/* Toggleable content - dropdown */\n",
       "\n",
       "#sk-container-id-4 div.sk-toggleable__content {\n",
       "  max-height: 0;\n",
       "  max-width: 0;\n",
       "  overflow: hidden;\n",
       "  text-align: left;\n",
       "  /* unfitted */\n",
       "  background-color: var(--sklearn-color-unfitted-level-0);\n",
       "}\n",
       "\n",
       "#sk-container-id-4 div.sk-toggleable__content.fitted {\n",
       "  /* fitted */\n",
       "  background-color: var(--sklearn-color-fitted-level-0);\n",
       "}\n",
       "\n",
       "#sk-container-id-4 div.sk-toggleable__content pre {\n",
       "  margin: 0.2em;\n",
       "  border-radius: 0.25em;\n",
       "  color: var(--sklearn-color-text);\n",
       "  /* unfitted */\n",
       "  background-color: var(--sklearn-color-unfitted-level-0);\n",
       "}\n",
       "\n",
       "#sk-container-id-4 div.sk-toggleable__content.fitted pre {\n",
       "  /* unfitted */\n",
       "  background-color: var(--sklearn-color-fitted-level-0);\n",
       "}\n",
       "\n",
       "#sk-container-id-4 input.sk-toggleable__control:checked~div.sk-toggleable__content {\n",
       "  /* Expand drop-down */\n",
       "  max-height: 200px;\n",
       "  max-width: 100%;\n",
       "  overflow: auto;\n",
       "}\n",
       "\n",
       "#sk-container-id-4 input.sk-toggleable__control:checked~label.sk-toggleable__label-arrow:before {\n",
       "  content: \"▾\";\n",
       "}\n",
       "\n",
       "/* Pipeline/ColumnTransformer-specific style */\n",
       "\n",
       "#sk-container-id-4 div.sk-label input.sk-toggleable__control:checked~label.sk-toggleable__label {\n",
       "  color: var(--sklearn-color-text);\n",
       "  background-color: var(--sklearn-color-unfitted-level-2);\n",
       "}\n",
       "\n",
       "#sk-container-id-4 div.sk-label.fitted input.sk-toggleable__control:checked~label.sk-toggleable__label {\n",
       "  background-color: var(--sklearn-color-fitted-level-2);\n",
       "}\n",
       "\n",
       "/* Estimator-specific style */\n",
       "\n",
       "/* Colorize estimator box */\n",
       "#sk-container-id-4 div.sk-estimator input.sk-toggleable__control:checked~label.sk-toggleable__label {\n",
       "  /* unfitted */\n",
       "  background-color: var(--sklearn-color-unfitted-level-2);\n",
       "}\n",
       "\n",
       "#sk-container-id-4 div.sk-estimator.fitted input.sk-toggleable__control:checked~label.sk-toggleable__label {\n",
       "  /* fitted */\n",
       "  background-color: var(--sklearn-color-fitted-level-2);\n",
       "}\n",
       "\n",
       "#sk-container-id-4 div.sk-label label.sk-toggleable__label,\n",
       "#sk-container-id-4 div.sk-label label {\n",
       "  /* The background is the default theme color */\n",
       "  color: var(--sklearn-color-text-on-default-background);\n",
       "}\n",
       "\n",
       "/* On hover, darken the color of the background */\n",
       "#sk-container-id-4 div.sk-label:hover label.sk-toggleable__label {\n",
       "  color: var(--sklearn-color-text);\n",
       "  background-color: var(--sklearn-color-unfitted-level-2);\n",
       "}\n",
       "\n",
       "/* Label box, darken color on hover, fitted */\n",
       "#sk-container-id-4 div.sk-label.fitted:hover label.sk-toggleable__label.fitted {\n",
       "  color: var(--sklearn-color-text);\n",
       "  background-color: var(--sklearn-color-fitted-level-2);\n",
       "}\n",
       "\n",
       "/* Estimator label */\n",
       "\n",
       "#sk-container-id-4 div.sk-label label {\n",
       "  font-family: monospace;\n",
       "  font-weight: bold;\n",
       "  display: inline-block;\n",
       "  line-height: 1.2em;\n",
       "}\n",
       "\n",
       "#sk-container-id-4 div.sk-label-container {\n",
       "  text-align: center;\n",
       "}\n",
       "\n",
       "/* Estimator-specific */\n",
       "#sk-container-id-4 div.sk-estimator {\n",
       "  font-family: monospace;\n",
       "  border: 1px dotted var(--sklearn-color-border-box);\n",
       "  border-radius: 0.25em;\n",
       "  box-sizing: border-box;\n",
       "  margin-bottom: 0.5em;\n",
       "  /* unfitted */\n",
       "  background-color: var(--sklearn-color-unfitted-level-0);\n",
       "}\n",
       "\n",
       "#sk-container-id-4 div.sk-estimator.fitted {\n",
       "  /* fitted */\n",
       "  background-color: var(--sklearn-color-fitted-level-0);\n",
       "}\n",
       "\n",
       "/* on hover */\n",
       "#sk-container-id-4 div.sk-estimator:hover {\n",
       "  /* unfitted */\n",
       "  background-color: var(--sklearn-color-unfitted-level-2);\n",
       "}\n",
       "\n",
       "#sk-container-id-4 div.sk-estimator.fitted:hover {\n",
       "  /* fitted */\n",
       "  background-color: var(--sklearn-color-fitted-level-2);\n",
       "}\n",
       "\n",
       "/* Specification for estimator info (e.g. \"i\" and \"?\") */\n",
       "\n",
       "/* Common style for \"i\" and \"?\" */\n",
       "\n",
       ".sk-estimator-doc-link,\n",
       "a:link.sk-estimator-doc-link,\n",
       "a:visited.sk-estimator-doc-link {\n",
       "  float: right;\n",
       "  font-size: smaller;\n",
       "  line-height: 1em;\n",
       "  font-family: monospace;\n",
       "  background-color: var(--sklearn-color-background);\n",
       "  border-radius: 1em;\n",
       "  height: 1em;\n",
       "  width: 1em;\n",
       "  text-decoration: none !important;\n",
       "  margin-left: 0.5em;\n",
       "  text-align: center;\n",
       "  /* unfitted */\n",
       "  border: var(--sklearn-color-unfitted-level-1) 1pt solid;\n",
       "  color: var(--sklearn-color-unfitted-level-1);\n",
       "}\n",
       "\n",
       ".sk-estimator-doc-link.fitted,\n",
       "a:link.sk-estimator-doc-link.fitted,\n",
       "a:visited.sk-estimator-doc-link.fitted {\n",
       "  /* fitted */\n",
       "  border: var(--sklearn-color-fitted-level-1) 1pt solid;\n",
       "  color: var(--sklearn-color-fitted-level-1);\n",
       "}\n",
       "\n",
       "/* On hover */\n",
       "div.sk-estimator:hover .sk-estimator-doc-link:hover,\n",
       ".sk-estimator-doc-link:hover,\n",
       "div.sk-label-container:hover .sk-estimator-doc-link:hover,\n",
       ".sk-estimator-doc-link:hover {\n",
       "  /* unfitted */\n",
       "  background-color: var(--sklearn-color-unfitted-level-3);\n",
       "  color: var(--sklearn-color-background);\n",
       "  text-decoration: none;\n",
       "}\n",
       "\n",
       "div.sk-estimator.fitted:hover .sk-estimator-doc-link.fitted:hover,\n",
       ".sk-estimator-doc-link.fitted:hover,\n",
       "div.sk-label-container:hover .sk-estimator-doc-link.fitted:hover,\n",
       ".sk-estimator-doc-link.fitted:hover {\n",
       "  /* fitted */\n",
       "  background-color: var(--sklearn-color-fitted-level-3);\n",
       "  color: var(--sklearn-color-background);\n",
       "  text-decoration: none;\n",
       "}\n",
       "\n",
       "/* Span, style for the box shown on hovering the info icon */\n",
       ".sk-estimator-doc-link span {\n",
       "  display: none;\n",
       "  z-index: 9999;\n",
       "  position: relative;\n",
       "  font-weight: normal;\n",
       "  right: .2ex;\n",
       "  padding: .5ex;\n",
       "  margin: .5ex;\n",
       "  width: min-content;\n",
       "  min-width: 20ex;\n",
       "  max-width: 50ex;\n",
       "  color: var(--sklearn-color-text);\n",
       "  box-shadow: 2pt 2pt 4pt #999;\n",
       "  /* unfitted */\n",
       "  background: var(--sklearn-color-unfitted-level-0);\n",
       "  border: .5pt solid var(--sklearn-color-unfitted-level-3);\n",
       "}\n",
       "\n",
       ".sk-estimator-doc-link.fitted span {\n",
       "  /* fitted */\n",
       "  background: var(--sklearn-color-fitted-level-0);\n",
       "  border: var(--sklearn-color-fitted-level-3);\n",
       "}\n",
       "\n",
       ".sk-estimator-doc-link:hover span {\n",
       "  display: block;\n",
       "}\n",
       "\n",
       "/* \"?\"-specific style due to the `<a>` HTML tag */\n",
       "\n",
       "#sk-container-id-4 a.estimator_doc_link {\n",
       "  float: right;\n",
       "  font-size: 1rem;\n",
       "  line-height: 1em;\n",
       "  font-family: monospace;\n",
       "  background-color: var(--sklearn-color-background);\n",
       "  border-radius: 1rem;\n",
       "  height: 1rem;\n",
       "  width: 1rem;\n",
       "  text-decoration: none;\n",
       "  /* unfitted */\n",
       "  color: var(--sklearn-color-unfitted-level-1);\n",
       "  border: var(--sklearn-color-unfitted-level-1) 1pt solid;\n",
       "}\n",
       "\n",
       "#sk-container-id-4 a.estimator_doc_link.fitted {\n",
       "  /* fitted */\n",
       "  border: var(--sklearn-color-fitted-level-1) 1pt solid;\n",
       "  color: var(--sklearn-color-fitted-level-1);\n",
       "}\n",
       "\n",
       "/* On hover */\n",
       "#sk-container-id-4 a.estimator_doc_link:hover {\n",
       "  /* unfitted */\n",
       "  background-color: var(--sklearn-color-unfitted-level-3);\n",
       "  color: var(--sklearn-color-background);\n",
       "  text-decoration: none;\n",
       "}\n",
       "\n",
       "#sk-container-id-4 a.estimator_doc_link.fitted:hover {\n",
       "  /* fitted */\n",
       "  background-color: var(--sklearn-color-fitted-level-3);\n",
       "}\n",
       "</style><div id=\"sk-container-id-4\" class=\"sk-top-container\"><div class=\"sk-text-repr-fallback\"><pre>RandomForestClassifier(min_samples_leaf=5, min_samples_split=5)</pre><b>In a Jupyter environment, please rerun this cell to show the HTML representation or trust the notebook. <br />On GitHub, the HTML representation is unable to render, please try loading this page with nbviewer.org.</b></div><div class=\"sk-container\" hidden><div class=\"sk-item\"><div class=\"sk-estimator fitted sk-toggleable\"><input class=\"sk-toggleable__control sk-hidden--visually\" id=\"sk-estimator-id-4\" type=\"checkbox\" checked><label for=\"sk-estimator-id-4\" class=\"sk-toggleable__label fitted sk-toggleable__label-arrow\"><div><div>RandomForestClassifier</div></div><div><a class=\"sk-estimator-doc-link fitted\" rel=\"noreferrer\" target=\"_blank\" href=\"https://scikit-learn.org/1.6/modules/generated/sklearn.ensemble.RandomForestClassifier.html\">?<span>Documentation for RandomForestClassifier</span></a><span class=\"sk-estimator-doc-link fitted\">i<span>Fitted</span></span></div></label><div class=\"sk-toggleable__content fitted\"><pre>RandomForestClassifier(min_samples_leaf=5, min_samples_split=5)</pre></div> </div></div></div></div>"
      ],
      "text/plain": [
       "RandomForestClassifier(min_samples_leaf=5, min_samples_split=5)"
      ]
     },
     "execution_count": 168,
     "metadata": {},
     "output_type": "execute_result"
    }
   ],
   "source": [
    "model3.fit(X_train, y_train)"
   ]
  },
  {
   "cell_type": "code",
   "execution_count": 169,
   "metadata": {},
   "outputs": [
    {
     "name": "stdout",
     "output_type": "stream",
     "text": [
      "Training Accuracy 0.9908823529411764\n",
      "Cross Validation Score [0.98470588 0.99294118 0.97176471 0.96235294 0.97882353]\n",
      "Testing Accuracy 0.9811764705882353\n"
     ]
    }
   ],
   "source": [
    "training_pred= model3.predict(X_train)\n",
    "training_accuracy = accuracy_score(y_train, training_pred)\n",
    "print(\"Training Accuracy\", training_accuracy)\n",
    "\n",
    "crossvalscore= cross_val_score(model3,x,y, cv=5, scoring='accuracy')\n",
    "print(\"Cross Validation Score\",crossvalscore)\n",
    "\n",
    "test_predictions= model3.predict(X_test)\n",
    "accuracy = accuracy_score(y_test, test_predictions)\n",
    "print(\"Testing Accuracy\", accuracy )"
   ]
  },
  {
   "cell_type": "markdown",
   "metadata": {},
   "source": [
    "The testing accuracy is little lower than training accuracy. This shows that the data might be overfitted slightly."
   ]
  },
  {
   "cell_type": "markdown",
   "metadata": {},
   "source": [
    "One method to reduce overfitting is to increase the training set size."
   ]
  },
  {
   "cell_type": "code",
   "execution_count": 170,
   "metadata": {},
   "outputs": [
    {
     "name": "stdout",
     "output_type": "stream",
     "text": [
      "Training Accuracy 0.9916339869281046\n",
      "Cross Validation Score [0.98705882 0.99176471 0.98       0.96705882 0.97411765]\n",
      "Testing Accuracy 0.9741176470588235\n"
     ]
    }
   ],
   "source": [
    "#train_test_split ratio changed to 90:10\n",
    "x_train, x_test, y_train, y_test = train_test_split(x,y,test_size=0.1,stratify=y,random_state=42) \n",
    "\n",
    "model3=RandomForestClassifier(n_estimators=100, max_depth=None,min_samples_split=5, min_samples_leaf=5)\n",
    "model3.fit(x_train, y_train)\n",
    "\n",
    "training_pred= model3.predict(x_train)\n",
    "training_accuracy = accuracy_score(y_train, training_pred)\n",
    "print(\"Training Accuracy\", training_accuracy)\n",
    "\n",
    "crossvalscore= cross_val_score(model3,x,y, cv=5, scoring='accuracy')\n",
    "print(\"Cross Validation Score\",crossvalscore)\n",
    "\n",
    "test_predictions= model3.predict(x_test)\n",
    "accuracy = accuracy_score(y_test, test_predictions)\n",
    "print(\"Testing Accuracy\", accuracy )\n"
   ]
  },
  {
   "cell_type": "code",
   "execution_count": 171,
   "metadata": {},
   "outputs": [
    {
     "data": {
      "text/plain": [
       "3825"
      ]
     },
     "execution_count": 171,
     "metadata": {},
     "output_type": "execute_result"
    }
   ],
   "source": [
    "len(x_train)"
   ]
  },
  {
   "cell_type": "markdown",
   "metadata": {},
   "source": [
    "The accuracies shows that there is no much change in overfitting even after increasing training set data size.  \n",
    "Further increasing of the training set size is not possible, since the test set would contain really small number of samples then."
   ]
  },
  {
   "cell_type": "markdown",
   "metadata": {},
   "source": [
    "Using trail and error method to optimize parameters of Random forest:"
   ]
  },
  {
   "cell_type": "code",
   "execution_count": 172,
   "metadata": {},
   "outputs": [
    {
     "name": "stdout",
     "output_type": "stream",
     "text": [
      "Training Accuracy 0.9769934640522876\n",
      "Cross Validation Score [0.98       0.98588235 0.96470588 0.95764706 0.96      ]\n",
      "Testing Accuracy 0.9623529411764706\n"
     ]
    }
   ],
   "source": [
    "model3_upd=RandomForestClassifier(n_estimators=100, max_depth=3,min_samples_split=5, min_samples_leaf=5)\n",
    "model3_upd.fit(x_train, y_train)\n",
    "\n",
    "training_pred= model3_upd.predict(x_train)\n",
    "training_accuracy = accuracy_score(y_train, training_pred)\n",
    "print(\"Training Accuracy\", training_accuracy)\n",
    "\n",
    "crossvalscore= cross_val_score(model3_upd,x,y, cv=5, scoring='accuracy')\n",
    "print(\"Cross Validation Score\",crossvalscore)\n",
    "\n",
    "test_predictions= model3_upd.predict(x_test)\n",
    "accuracy = accuracy_score(y_test, test_predictions)\n",
    "print(\"Testing Accuracy\", accuracy )"
   ]
  },
  {
   "cell_type": "markdown",
   "metadata": {},
   "source": [
    "There is a slight improvement in the model when max_depth was changed to 3. Testing and training accuracy values are close now."
   ]
  },
  {
   "cell_type": "code",
   "execution_count": 173,
   "metadata": {},
   "outputs": [],
   "source": [
    "#defining the model in a function for later use.\n",
    "def randomforest(x_train, y_train, x_test, y_test):\n",
    "    model3_upd=RandomForestClassifier(n_estimators=100, max_depth=3,min_samples_split=5, min_samples_leaf=5)\n",
    "    model3_upd.fit(x_train, y_train)\n",
    "\n",
    "    training_pred= model3_upd.predict(x_train)\n",
    "    training_accuracy = accuracy_score(y_train, training_pred)\n",
    "    print(\"Training Accuracy\", training_accuracy)\n",
    "\n",
    "    test_predictions= model3_upd.predict(x_test)\n",
    "    accuracy = accuracy_score(y_test, test_predictions)\n",
    "    print(\"Testing Accuracy\", accuracy )\n",
    "\n",
    "    "
   ]
  },
  {
   "cell_type": "markdown",
   "metadata": {},
   "source": [
    "<span style=\"font-size: 22px; font-weight:bold;\">UNIVARIATE ANALYSIS</span>"
   ]
  },
  {
   "cell_type": "code",
   "execution_count": 174,
   "metadata": {},
   "outputs": [
    {
     "data": {
      "text/html": [
       "<div>\n",
       "<style scoped>\n",
       "    .dataframe tbody tr th:only-of-type {\n",
       "        vertical-align: middle;\n",
       "    }\n",
       "\n",
       "    .dataframe tbody tr th {\n",
       "        vertical-align: top;\n",
       "    }\n",
       "\n",
       "    .dataframe thead th {\n",
       "        text-align: right;\n",
       "    }\n",
       "</style>\n",
       "<table border=\"1\" class=\"dataframe\">\n",
       "  <thead>\n",
       "    <tr style=\"text-align: right;\">\n",
       "      <th></th>\n",
       "      <th>Temperature</th>\n",
       "      <th>Humidity</th>\n",
       "      <th>PM2.5</th>\n",
       "      <th>PM10</th>\n",
       "      <th>NO2</th>\n",
       "      <th>SO2</th>\n",
       "      <th>CO</th>\n",
       "      <th>Proximity_to_Industrial_Areas</th>\n",
       "      <th>Population_Density</th>\n",
       "      <th>Air Quality</th>\n",
       "    </tr>\n",
       "  </thead>\n",
       "  <tbody>\n",
       "    <tr>\n",
       "      <th>0</th>\n",
       "      <td>27.1</td>\n",
       "      <td>39.1</td>\n",
       "      <td>6.1</td>\n",
       "      <td>6.3</td>\n",
       "      <td>13.5</td>\n",
       "      <td>5.3</td>\n",
       "      <td>1.15</td>\n",
       "      <td>11.1</td>\n",
       "      <td>551</td>\n",
       "      <td>Good</td>\n",
       "    </tr>\n",
       "    <tr>\n",
       "      <th>1</th>\n",
       "      <td>26.5</td>\n",
       "      <td>70.7</td>\n",
       "      <td>6.9</td>\n",
       "      <td>16.0</td>\n",
       "      <td>21.9</td>\n",
       "      <td>5.6</td>\n",
       "      <td>1.01</td>\n",
       "      <td>12.7</td>\n",
       "      <td>303</td>\n",
       "      <td>Good</td>\n",
       "    </tr>\n",
       "    <tr>\n",
       "      <th>2</th>\n",
       "      <td>39.4</td>\n",
       "      <td>96.6</td>\n",
       "      <td>14.6</td>\n",
       "      <td>35.5</td>\n",
       "      <td>42.9</td>\n",
       "      <td>17.9</td>\n",
       "      <td>1.82</td>\n",
       "      <td>3.1</td>\n",
       "      <td>674</td>\n",
       "      <td>Poor</td>\n",
       "    </tr>\n",
       "    <tr>\n",
       "      <th>3</th>\n",
       "      <td>41.7</td>\n",
       "      <td>82.5</td>\n",
       "      <td>1.7</td>\n",
       "      <td>15.8</td>\n",
       "      <td>31.1</td>\n",
       "      <td>12.7</td>\n",
       "      <td>1.80</td>\n",
       "      <td>4.6</td>\n",
       "      <td>735</td>\n",
       "      <td>Poor</td>\n",
       "    </tr>\n",
       "    <tr>\n",
       "      <th>4</th>\n",
       "      <td>29.4</td>\n",
       "      <td>93.8</td>\n",
       "      <td>10.3</td>\n",
       "      <td>22.7</td>\n",
       "      <td>45.1</td>\n",
       "      <td>11.8</td>\n",
       "      <td>2.03</td>\n",
       "      <td>5.4</td>\n",
       "      <td>486</td>\n",
       "      <td>Poor</td>\n",
       "    </tr>\n",
       "  </tbody>\n",
       "</table>\n",
       "</div>"
      ],
      "text/plain": [
       "   Temperature  Humidity  PM2.5  PM10   NO2   SO2    CO  \\\n",
       "0         27.1      39.1    6.1   6.3  13.5   5.3  1.15   \n",
       "1         26.5      70.7    6.9  16.0  21.9   5.6  1.01   \n",
       "2         39.4      96.6   14.6  35.5  42.9  17.9  1.82   \n",
       "3         41.7      82.5    1.7  15.8  31.1  12.7  1.80   \n",
       "4         29.4      93.8   10.3  22.7  45.1  11.8  2.03   \n",
       "\n",
       "   Proximity_to_Industrial_Areas  Population_Density Air Quality  \n",
       "0                           11.1                 551        Good  \n",
       "1                           12.7                 303        Good  \n",
       "2                            3.1                 674        Poor  \n",
       "3                            4.6                 735        Poor  \n",
       "4                            5.4                 486        Poor  "
      ]
     },
     "execution_count": 174,
     "metadata": {},
     "output_type": "execute_result"
    }
   ],
   "source": [
    "dataframe.head()"
   ]
  },
  {
   "cell_type": "code",
   "execution_count": 175,
   "metadata": {},
   "outputs": [
    {
     "data": {
      "image/png": "[encoded data removed]",
      "text/plain": [
       "<Figure size 640x480 with 1 Axes>"
      ]
     },
     "metadata": {},
     "output_type": "display_data"
    }
   ],
   "source": [
    "# FEATURE 1 - TEMPERATURE\n",
    "\n",
    "sn.boxplot(dataframe['Temperature'])\n",
    "plt.title('Temperature Distribution')\n",
    "plt.show()"
   ]
  },
  {
   "cell_type": "markdown",
   "metadata": {},
   "source": [
    "There are outliers in the data. But they necessarily wont be error/invalid data because spikes can happen in environmental data because of extreme pollution or weather events.   \n",
    "The data is little right-skewed ( right tail is longer than left tail)  \n",
    "To check the skewness, we can use skew function in scipy or can interpret it from statistical values like mean and median. \n"
   ]
  },
  {
   "cell_type": "code",
   "execution_count": 176,
   "metadata": {},
   "outputs": [
    {
     "name": "stdout",
     "output_type": "stream",
     "text": [
      "Mean:  30.021670588235295\n",
      "Median:  28.7\n"
     ]
    }
   ],
   "source": [
    "print(\"Mean: \", dataframe['Temperature'].mean())\n",
    "print(\"Median: \", dataframe['Temperature'].median())"
   ]
  },
  {
   "cell_type": "markdown",
   "metadata": {},
   "source": [
    "If mean is greater than median -> Right Skewed  \n",
    "If mean is less than median -> Left Skewed  \n",
    "If mean is almost equal to  median -> Normal Distribution   \n",
    "Here mean is greater than median. This shows that the data is right-skewed."
   ]
  },
  {
   "cell_type": "code",
   "execution_count": 177,
   "metadata": {},
   "outputs": [
    {
     "name": "stdout",
     "output_type": "stream",
     "text": [
      "Skewness:   0.7566563159758903\n",
      "Kurtosis:  0.29536600006593616\n"
     ]
    }
   ],
   "source": [
    "from scipy.stats import skew, kurtosis\n",
    "print(\"Skewness:  \", skew(dataframe['Temperature']))\n",
    "print(\"Kurtosis: \", kurtosis(dataframe['Temperature']))"
   ]
  },
  {
   "cell_type": "markdown",
   "metadata": {},
   "source": [
    "Skewness value greater than zero indicates positive skewness.  \n",
    "Kurtosis value closer to zero indicates, data has few outliers. "
   ]
  },
  {
   "cell_type": "code",
   "execution_count": 178,
   "metadata": {},
   "outputs": [
    {
     "data": {
      "image/png": "[encoded data removed]",
      "text/plain": [
       "<Figure size 640x480 with 1 Axes>"
      ]
     },
     "metadata": {},
     "output_type": "display_data"
    }
   ],
   "source": [
    "# FEATURE 2 - HUMIDITY\n",
    "\n",
    "sn.boxplot(dataframe['Humidity'])\n",
    "plt.title('Humidity Distribution')\n",
    "plt.show()"
   ]
  },
  {
   "cell_type": "code",
   "execution_count": 179,
   "metadata": {},
   "outputs": [
    {
     "name": "stdout",
     "output_type": "stream",
     "text": [
      "Mean:  69.93557647058823\n",
      "Median:  69.6\n",
      "Skewness:   0.31564102031833696\n",
      "Kurtosis:  -0.31417197131744556\n"
     ]
    }
   ],
   "source": [
    "print(\"Mean: \", dataframe['Humidity'].mean())\n",
    "print(\"Median: \", dataframe['Humidity'].median())\n",
    "print(\"Skewness:  \", skew(dataframe['Humidity']))\n",
    "print(\"Kurtosis: \", kurtosis(dataframe['Humidity']))"
   ]
  },
  {
   "cell_type": "markdown",
   "metadata": {},
   "source": [
    "Mean and median values are close. Very less skewness is present"
   ]
  },
  {
   "cell_type": "code",
   "execution_count": 180,
   "metadata": {},
   "outputs": [
    {
     "data": {
      "image/png": "[encoded data removed]",
      "text/plain": [
       "<Figure size 640x480 with 1 Axes>"
      ]
     },
     "metadata": {},
     "output_type": "display_data"
    }
   ],
   "source": [
    "# FEATURE 3 - PM2.5\n",
    "\n",
    "sn.boxplot(dataframe['PM2.5'])\n",
    "plt.title('PM2.5 Distribution')\n",
    "plt.show()"
   ]
  },
  {
   "cell_type": "code",
   "execution_count": 181,
   "metadata": {},
   "outputs": [
    {
     "name": "stdout",
     "output_type": "stream",
     "text": [
      "Mean:  20.057929411764704\n",
      "Median:  11.6\n",
      "Skewness:   2.956141903968115\n",
      "Kurtosis:  13.346870545084947\n"
     ]
    }
   ],
   "source": [
    "print(\"Mean: \", dataframe['PM2.5'].mean())\n",
    "print(\"Median: \", dataframe['PM2.5'].median())\n",
    "print(\"Skewness:  \", skew(dataframe['PM2.5']))\n",
    "print(\"Kurtosis: \", kurtosis(dataframe['PM2.5']))"
   ]
  },
  {
   "cell_type": "markdown",
   "metadata": {},
   "source": [
    "The data is highly skewed to rightside, kurtosis also has a very high value. This shows the presence of extreme outliers."
   ]
  },
  {
   "cell_type": "code",
   "execution_count": 182,
   "metadata": {},
   "outputs": [],
   "source": [
    "dataframe['Log_PM2.5'] = dataframe['PM2.5'].apply(lambda x:np.log(x+1))"
   ]
  },
  {
   "cell_type": "code",
   "execution_count": 183,
   "metadata": {},
   "outputs": [
    {
     "name": "stdout",
     "output_type": "stream",
     "text": [
      "Mean:  2.4831861474880697\n",
      "Median:  2.533696813957432\n",
      "Skewness:   -0.07305135934967712\n",
      "Kurtosis:  -0.5590468226910859\n"
     ]
    }
   ],
   "source": [
    "print(\"Mean: \", dataframe['Log_PM2.5'].mean())\n",
    "print(\"Median: \", dataframe['Log_PM2.5'].median())\n",
    "print(\"Skewness:  \", skew(dataframe['Log_PM2.5']))\n",
    "print(\"Kurtosis: \", kurtosis(dataframe['Log_PM2.5']))"
   ]
  },
  {
   "cell_type": "code",
   "execution_count": 184,
   "metadata": {},
   "outputs": [
    {
     "data": {
      "image/png": "[encoded data removed]",
      "text/plain": [
       "<Figure size 640x480 with 1 Axes>"
      ]
     },
     "metadata": {},
     "output_type": "display_data"
    }
   ],
   "source": [
    "sn.boxplot(dataframe['Log_PM2.5'])\n",
    "plt.title('PM2.5 Distribution after Log Transformation')\n",
    "plt.show()"
   ]
  },
  {
   "cell_type": "markdown",
   "metadata": {},
   "source": [
    "Mean and median values are close now. Skewness and Kurtosis value have also decreased. This indicates that the impact of outliers is reduced and the distribution is more normal now."
   ]
  },
  {
   "cell_type": "code",
   "execution_count": 185,
   "metadata": {},
   "outputs": [
    {
     "data": {
      "image/png": "[encoded data removed]",
      "text/plain": [
       "<Figure size 640x480 with 1 Axes>"
      ]
     },
     "metadata": {},
     "output_type": "display_data"
    }
   ],
   "source": [
    "# FEATURE 4 - PM10\n",
    "\n",
    "sn.boxplot(dataframe['PM10'])\n",
    "plt.title('PM10 Distribution')\n",
    "plt.show()"
   ]
  },
  {
   "cell_type": "code",
   "execution_count": 186,
   "metadata": {},
   "outputs": [
    {
     "name": "stdout",
     "output_type": "stream",
     "text": [
      "Mean:  30.156517647058823\n",
      "Median:  21.2\n",
      "Skewness:   2.5499650723246714\n",
      "Kurtosis:  10.141088054347394\n"
     ]
    }
   ],
   "source": [
    "print(\"Mean: \", dataframe['PM10'].mean())\n",
    "print(\"Median: \", dataframe['PM10'].median())\n",
    "print(\"Skewness:  \", skew(dataframe['PM10']))\n",
    "print(\"Kurtosis: \", kurtosis(dataframe['PM10']))"
   ]
  },
  {
   "cell_type": "markdown",
   "metadata": {},
   "source": [
    "This feature is also highly right skewed. Kurtosis value is also high. So this feature is also having extreme outlier points."
   ]
  },
  {
   "cell_type": "code",
   "execution_count": 187,
   "metadata": {},
   "outputs": [],
   "source": [
    "dataframe['Log_PM10'] = dataframe['PM10'].apply(lambda x:np.log(x+1))"
   ]
  },
  {
   "cell_type": "code",
   "execution_count": 188,
   "metadata": {},
   "outputs": [
    {
     "name": "stdout",
     "output_type": "stream",
     "text": [
      "Mean:  3.1221793239146924\n",
      "Median:  3.100092288878234\n",
      "Skewness:   0.11759345148198641\n",
      "Kurtosis:  -0.26421103149557945\n"
     ]
    }
   ],
   "source": [
    "print(\"Mean: \", dataframe['Log_PM10'].mean())\n",
    "print(\"Median: \", dataframe['Log_PM10'].median())\n",
    "print(\"Skewness:  \", skew(dataframe['Log_PM10']))\n",
    "print(\"Kurtosis: \", kurtosis(dataframe['Log_PM10']))"
   ]
  },
  {
   "cell_type": "code",
   "execution_count": 189,
   "metadata": {},
   "outputs": [
    {
     "data": {
      "image/png": "[encoded data removed]",
      "text/plain": [
       "<Figure size 640x480 with 1 Axes>"
      ]
     },
     "metadata": {},
     "output_type": "display_data"
    }
   ],
   "source": [
    "sn.boxplot(dataframe['Log_PM10'])\n",
    "plt.title('PM10 Distribution after Log Transformation')\n",
    "plt.show()"
   ]
  },
  {
   "cell_type": "markdown",
   "metadata": {},
   "source": [
    "Mean and median values are close now. Skewness and Kurtosis value have also decreased. This indicates that the impact of outliers have reduced and the distribution is more normal now."
   ]
  },
  {
   "cell_type": "code",
   "execution_count": 190,
   "metadata": {},
   "outputs": [
    {
     "data": {
      "image/png": "[encoded data removed]",
      "text/plain": [
       "<Figure size 640x480 with 1 Axes>"
      ]
     },
     "metadata": {},
     "output_type": "display_data"
    }
   ],
   "source": [
    "# FEATURE 5-NO2\n",
    "\n",
    "sn.boxplot(dataframe['NO2'])\n",
    "plt.title('NO2 Distribution')\n",
    "plt.show()"
   ]
  },
  {
   "cell_type": "code",
   "execution_count": 191,
   "metadata": {},
   "outputs": [
    {
     "name": "stdout",
     "output_type": "stream",
     "text": [
      "Mean:  26.399670588235296\n",
      "Median:  25.0\n",
      "Skewness:   0.6343292819207506\n",
      "Kurtosis:  0.01137751820492916\n"
     ]
    }
   ],
   "source": [
    "print(\"Mean: \", dataframe['NO2'].mean())\n",
    "print(\"Median: \", dataframe['NO2'].median())\n",
    "print(\"Skewness:  \", skew(dataframe['NO2']))\n",
    "print(\"Kurtosis: \", kurtosis(dataframe['NO2']))"
   ]
  },
  {
   "cell_type": "markdown",
   "metadata": {},
   "source": [
    "NO2 feature is also right skewed, but not highly. Kurtosis value is low indicating that the number of extreme outliers are low."
   ]
  },
  {
   "cell_type": "code",
   "execution_count": 192,
   "metadata": {},
   "outputs": [
    {
     "data": {
      "image/png": "[encoded data removed]",
      "text/plain": [
       "<Figure size 640x480 with 1 Axes>"
      ]
     },
     "metadata": {},
     "output_type": "display_data"
    }
   ],
   "source": [
    "# FEATURE 6-SO2\n",
    "\n",
    "sn.boxplot(dataframe['SO2'])\n",
    "plt.title('SO2 Distribution')\n",
    "plt.show()"
   ]
  },
  {
   "cell_type": "code",
   "execution_count": 193,
   "metadata": {},
   "outputs": [
    {
     "name": "stdout",
     "output_type": "stream",
     "text": [
      "Mean:  10.052399999999999\n",
      "Median:  7.5\n",
      "Skewness:   1.2012900250113918\n",
      "Kurtosis:  1.1134892704286274\n"
     ]
    }
   ],
   "source": [
    "print(\"Mean: \", dataframe['SO2'].mean())\n",
    "print(\"Median: \", dataframe['SO2'].median())\n",
    "print(\"Skewness:  \", skew(dataframe['SO2']))\n",
    "print(\"Kurtosis: \", kurtosis(dataframe['SO2']))"
   ]
  },
  {
   "cell_type": "markdown",
   "metadata": {},
   "source": [
    "The data points are right-skewed. Kurtosis values indicate that few extreme outliers do exist."
   ]
  },
  {
   "cell_type": "code",
   "execution_count": 194,
   "metadata": {},
   "outputs": [],
   "source": [
    "dataframe['Log_SO2'] = dataframe['SO2'].apply(lambda x:np.log(x+1))"
   ]
  },
  {
   "cell_type": "code",
   "execution_count": 195,
   "metadata": {},
   "outputs": [
    {
     "name": "stdout",
     "output_type": "stream",
     "text": [
      "Mean:  2.2073962897806974\n",
      "Median:  2.1400661634962708\n",
      "Skewness:   -0.11445423544109387\n",
      "Kurtosis:  -0.23439882639170984\n"
     ]
    }
   ],
   "source": [
    "print(\"Mean: \", dataframe['Log_SO2'].mean())\n",
    "print(\"Median: \", dataframe['Log_SO2'].median())\n",
    "print(\"Skewness:  \", skew(dataframe['Log_SO2']))\n",
    "print(\"Kurtosis: \", kurtosis(dataframe['Log_SO2']))"
   ]
  },
  {
   "cell_type": "code",
   "execution_count": 196,
   "metadata": {},
   "outputs": [
    {
     "data": {
      "image/png": "[encoded data removed]",
      "text/plain": [
       "<Figure size 640x480 with 1 Axes>"
      ]
     },
     "metadata": {},
     "output_type": "display_data"
    }
   ],
   "source": [
    "sn.boxplot(dataframe['Log_SO2'])\n",
    "plt.title('SO2 Distribution after Log Transformation')\n",
    "plt.show()"
   ]
  },
  {
   "cell_type": "markdown",
   "metadata": {},
   "source": [
    "The mean and median values are close now. The skewness have slightly reduced and the impact of outliers have significantly reduced."
   ]
  },
  {
   "cell_type": "code",
   "execution_count": 197,
   "metadata": {},
   "outputs": [
    {
     "data": {
      "image/png": "[encoded data removed]",
      "text/plain": [
       "<Figure size 640x480 with 1 Axes>"
      ]
     },
     "metadata": {},
     "output_type": "display_data"
    }
   ],
   "source": [
    "# FEATURE 7 - CO\n",
    "\n",
    "sn.boxplot(dataframe['CO'])\n",
    "plt.title('CO Distribution')\n",
    "plt.show()"
   ]
  },
  {
   "cell_type": "code",
   "execution_count": 198,
   "metadata": {},
   "outputs": [
    {
     "name": "stdout",
     "output_type": "stream",
     "text": [
      "Mean:  1.5004282352941176\n",
      "Median:  1.31\n",
      "Skewness:   0.8347303653779247\n",
      "Kurtosis:  -0.16653756858754454\n"
     ]
    }
   ],
   "source": [
    "print(\"Mean: \", dataframe['CO'].mean())\n",
    "print(\"Median: \", dataframe['CO'].median())\n",
    "print(\"Skewness:  \", skew(dataframe['CO']))\n",
    "print(\"Kurtosis: \", kurtosis(dataframe['CO']))"
   ]
  },
  {
   "cell_type": "markdown",
   "metadata": {},
   "source": [
    "Mean and median values are close. The data is lightly right-skewed. The number of outliers in this feature is lower compared to other features."
   ]
  },
  {
   "cell_type": "code",
   "execution_count": 199,
   "metadata": {},
   "outputs": [
    {
     "data": {
      "image/png": "[encoded data removed]",
      "text/plain": [
       "<Figure size 640x480 with 1 Axes>"
      ]
     },
     "metadata": {},
     "output_type": "display_data"
    }
   ],
   "source": [
    "# FEATURE 8- PROXIMITY TO INDUSTRIAL AREAS\n",
    "\n",
    "sn.boxplot(dataframe['Proximity_to_Industrial_Areas'])\n",
    "plt.title('Proximity_to_Industrial_Areas Distribution')\n",
    "plt.show()"
   ]
  },
  {
   "cell_type": "code",
   "execution_count": 200,
   "metadata": {},
   "outputs": [
    {
     "name": "stdout",
     "output_type": "stream",
     "text": [
      "Mean:  8.68421176470588\n",
      "Median:  9.7\n",
      "Skewness:   0.3018648240635678\n",
      "Kurtosis:  -0.45049497497736724\n"
     ]
    }
   ],
   "source": [
    "print(\"Mean: \", dataframe['Proximity_to_Industrial_Areas'].mean())\n",
    "print(\"Median: \", dataframe['Proximity_to_Industrial_Areas'].median())\n",
    "print(\"Skewness:  \", skew(dataframe['Proximity_to_Industrial_Areas']))\n",
    "print(\"Kurtosis: \", kurtosis(dataframe['Proximity_to_Industrial_Areas']))"
   ]
  },
  {
   "cell_type": "markdown",
   "metadata": {},
   "source": [
    "Median is greater than mean value. This indicates that the data is left-skewed. The presence of extreme outliers is less."
   ]
  },
  {
   "cell_type": "code",
   "execution_count": 201,
   "metadata": {},
   "outputs": [
    {
     "data": {
      "image/png": "[encoded data removed]",
      "text/plain": [
       "<Figure size 640x480 with 1 Axes>"
      ]
     },
     "metadata": {},
     "output_type": "display_data"
    }
   ],
   "source": [
    "# FEATURE 9- POPULATION DENSITY\n",
    "\n",
    "sn.boxplot(dataframe['Population_Density'])\n",
    "plt.title('Population_Density')\n",
    "plt.show()"
   ]
  },
  {
   "cell_type": "code",
   "execution_count": 202,
   "metadata": {},
   "outputs": [
    {
     "name": "stdout",
     "output_type": "stream",
     "text": [
      "Mean:  497.2830588235294\n",
      "Median:  494.0\n",
      "Skewness:   0.21759603861002536\n",
      "Kurtosis:  -0.5343709402156684\n"
     ]
    }
   ],
   "source": [
    "print(\"Mean: \", dataframe['Population_Density'].mean())\n",
    "print(\"Median: \", dataframe['Population_Density'].median())\n",
    "print(\"Skewness:  \", skew(dataframe['Population_Density']))\n",
    "print(\"Kurtosis: \", kurtosis(dataframe['Population_Density']))"
   ]
  },
  {
   "cell_type": "markdown",
   "metadata": {},
   "source": [
    "The data is lightly right-skewed. There are no much extreme outliers in the data as indicated by kurtosis value."
   ]
  },
  {
   "cell_type": "code",
   "execution_count": 203,
   "metadata": {},
   "outputs": [
    {
     "data": {
      "image/png": "[encoded data removed]",
      "text/plain": [
       "<Figure size 640x480 with 1 Axes>"
      ]
     },
     "metadata": {},
     "output_type": "display_data"
    }
   ],
   "source": [
    "#feature 9 - Air Quality\n",
    "sn.countplot(x=dataframe['Air Quality'])\n",
    "plt.title('Distribution of Air Quality')\n",
    "plt.show()"
   ]
  },
  {
   "cell_type": "code",
   "execution_count": 204,
   "metadata": {},
   "outputs": [
    {
     "name": "stdout",
     "output_type": "stream",
     "text": [
      "Air Quality\n",
      "Good    2750\n",
      "Poor    1500\n",
      "Name: count, dtype: int64\n"
     ]
    }
   ],
   "source": [
    "counts=dataframe['Air Quality'].value_counts()\n",
    "print(counts)"
   ]
  },
  {
   "cell_type": "markdown",
   "metadata": {},
   "source": [
    "The data samples for 'Air Quality' being 'Good' is more than the samples for 'Air Quality' being 'Poor'."
   ]
  },
  {
   "cell_type": "markdown",
   "metadata": {},
   "source": [
    "Trying to do the predictions with log transformed features:"
   ]
  },
  {
   "cell_type": "code",
   "execution_count": 205,
   "metadata": {},
   "outputs": [
    {
     "data": {
      "text/plain": [
       "Index(['Temperature', 'Humidity', 'PM2.5', 'PM10', 'NO2', 'SO2', 'CO',\n",
       "       'Proximity_to_Industrial_Areas', 'Population_Density', 'Air Quality',\n",
       "       'Log_PM2.5', 'Log_PM10', 'Log_SO2'],\n",
       "      dtype='object')"
      ]
     },
     "execution_count": 205,
     "metadata": {},
     "output_type": "execute_result"
    }
   ],
   "source": [
    "dataframe.columns"
   ]
  },
  {
   "cell_type": "code",
   "execution_count": 206,
   "metadata": {},
   "outputs": [],
   "source": [
    "dataframe['Air Quality'] = dataframe['Air Quality'].map({'Good':1, 'Poor':0}) #encoding of categorical data\n",
    "\n",
    "log_features=['Temperature', 'Humidity', 'Log_PM2.5', 'Log_PM10', 'NO2',\n",
    "       'Log_SO2', 'CO', 'Proximity_to_Industrial_Areas',\n",
    "       'Population_Density']\n",
    "X=dataframe[log_features]\n",
    "Y=dataframe['Air Quality']\n",
    "\n",
    "scaler = MinMaxScaler()\n",
    "scaling= scaler.fit_transform(X)\n",
    "X=pd.DataFrame(scaling)\n",
    "\n",
    "x_train, x_test, y_train, y_test = train_test_split(X,Y,test_size=0.2,stratify=Y,random_state=42)"
   ]
  },
  {
   "cell_type": "code",
   "execution_count": 207,
   "metadata": {},
   "outputs": [
    {
     "name": "stdout",
     "output_type": "stream",
     "text": [
      "Training Accuracy 0.971764705882353\n",
      "Testing Accuracy 0.9694117647058823\n"
     ]
    }
   ],
   "source": [
    "logisticregression(x_train=x_train,y_train=y_train,x_test=x_test,y_test=y_test)"
   ]
  },
  {
   "cell_type": "code",
   "execution_count": 208,
   "metadata": {},
   "outputs": [
    {
     "name": "stdout",
     "output_type": "stream",
     "text": [
      "Training Accuracy 0.9764705882352941\n",
      "Testing Accuracy 0.971764705882353\n"
     ]
    }
   ],
   "source": [
    "randomforest(x_train=x_train,y_train=y_train,x_test=x_test,y_test=y_test)"
   ]
  },
  {
   "cell_type": "markdown",
   "metadata": {},
   "source": [
    "The testing and training accuracy is almost same as before the log transformations were performed. This indicate that the presence of outliers were not effecting the model significantly earlier."
   ]
  },
  {
   "cell_type": "markdown",
   "metadata": {},
   "source": [
    "Trying to remove outliers:"
   ]
  },
  {
   "cell_type": "code",
   "execution_count": 209,
   "metadata": {},
   "outputs": [],
   "source": [
    "dataframe_dummy=dataframe"
   ]
  },
  {
   "cell_type": "code",
   "execution_count": 210,
   "metadata": {},
   "outputs": [
    {
     "data": {
      "text/html": [
       "<div>\n",
       "<style scoped>\n",
       "    .dataframe tbody tr th:only-of-type {\n",
       "        vertical-align: middle;\n",
       "    }\n",
       "\n",
       "    .dataframe tbody tr th {\n",
       "        vertical-align: top;\n",
       "    }\n",
       "\n",
       "    .dataframe thead th {\n",
       "        text-align: right;\n",
       "    }\n",
       "</style>\n",
       "<table border=\"1\" class=\"dataframe\">\n",
       "  <thead>\n",
       "    <tr style=\"text-align: right;\">\n",
       "      <th></th>\n",
       "      <th>Temperature</th>\n",
       "      <th>Humidity</th>\n",
       "      <th>PM2.5</th>\n",
       "      <th>PM10</th>\n",
       "      <th>NO2</th>\n",
       "      <th>SO2</th>\n",
       "      <th>CO</th>\n",
       "      <th>Proximity_to_Industrial_Areas</th>\n",
       "      <th>Population_Density</th>\n",
       "      <th>Air Quality</th>\n",
       "      <th>Log_PM2.5</th>\n",
       "      <th>Log_PM10</th>\n",
       "      <th>Log_SO2</th>\n",
       "    </tr>\n",
       "  </thead>\n",
       "  <tbody>\n",
       "    <tr>\n",
       "      <th>0</th>\n",
       "      <td>27.1</td>\n",
       "      <td>39.1</td>\n",
       "      <td>6.1</td>\n",
       "      <td>6.3</td>\n",
       "      <td>13.5</td>\n",
       "      <td>5.3</td>\n",
       "      <td>1.15</td>\n",
       "      <td>11.1</td>\n",
       "      <td>551</td>\n",
       "      <td>1</td>\n",
       "      <td>1.960095</td>\n",
       "      <td>1.987874</td>\n",
       "      <td>1.840550</td>\n",
       "    </tr>\n",
       "    <tr>\n",
       "      <th>1</th>\n",
       "      <td>26.5</td>\n",
       "      <td>70.7</td>\n",
       "      <td>6.9</td>\n",
       "      <td>16.0</td>\n",
       "      <td>21.9</td>\n",
       "      <td>5.6</td>\n",
       "      <td>1.01</td>\n",
       "      <td>12.7</td>\n",
       "      <td>303</td>\n",
       "      <td>1</td>\n",
       "      <td>2.066863</td>\n",
       "      <td>2.833213</td>\n",
       "      <td>1.887070</td>\n",
       "    </tr>\n",
       "    <tr>\n",
       "      <th>2</th>\n",
       "      <td>39.4</td>\n",
       "      <td>96.6</td>\n",
       "      <td>14.6</td>\n",
       "      <td>35.5</td>\n",
       "      <td>42.9</td>\n",
       "      <td>17.9</td>\n",
       "      <td>1.82</td>\n",
       "      <td>3.1</td>\n",
       "      <td>674</td>\n",
       "      <td>0</td>\n",
       "      <td>2.747271</td>\n",
       "      <td>3.597312</td>\n",
       "      <td>2.939162</td>\n",
       "    </tr>\n",
       "    <tr>\n",
       "      <th>3</th>\n",
       "      <td>41.7</td>\n",
       "      <td>82.5</td>\n",
       "      <td>1.7</td>\n",
       "      <td>15.8</td>\n",
       "      <td>31.1</td>\n",
       "      <td>12.7</td>\n",
       "      <td>1.80</td>\n",
       "      <td>4.6</td>\n",
       "      <td>735</td>\n",
       "      <td>0</td>\n",
       "      <td>0.993252</td>\n",
       "      <td>2.821379</td>\n",
       "      <td>2.617396</td>\n",
       "    </tr>\n",
       "    <tr>\n",
       "      <th>4</th>\n",
       "      <td>29.4</td>\n",
       "      <td>93.8</td>\n",
       "      <td>10.3</td>\n",
       "      <td>22.7</td>\n",
       "      <td>45.1</td>\n",
       "      <td>11.8</td>\n",
       "      <td>2.03</td>\n",
       "      <td>5.4</td>\n",
       "      <td>486</td>\n",
       "      <td>0</td>\n",
       "      <td>2.424803</td>\n",
       "      <td>3.165475</td>\n",
       "      <td>2.549445</td>\n",
       "    </tr>\n",
       "  </tbody>\n",
       "</table>\n",
       "</div>"
      ],
      "text/plain": [
       "   Temperature  Humidity  PM2.5  PM10   NO2   SO2    CO  \\\n",
       "0         27.1      39.1    6.1   6.3  13.5   5.3  1.15   \n",
       "1         26.5      70.7    6.9  16.0  21.9   5.6  1.01   \n",
       "2         39.4      96.6   14.6  35.5  42.9  17.9  1.82   \n",
       "3         41.7      82.5    1.7  15.8  31.1  12.7  1.80   \n",
       "4         29.4      93.8   10.3  22.7  45.1  11.8  2.03   \n",
       "\n",
       "   Proximity_to_Industrial_Areas  Population_Density  Air Quality  Log_PM2.5  \\\n",
       "0                           11.1                 551            1   1.960095   \n",
       "1                           12.7                 303            1   2.066863   \n",
       "2                            3.1                 674            0   2.747271   \n",
       "3                            4.6                 735            0   0.993252   \n",
       "4                            5.4                 486            0   2.424803   \n",
       "\n",
       "   Log_PM10   Log_SO2  \n",
       "0  1.987874  1.840550  \n",
       "1  2.833213  1.887070  \n",
       "2  3.597312  2.939162  \n",
       "3  2.821379  2.617396  \n",
       "4  3.165475  2.549445  "
      ]
     },
     "execution_count": 210,
     "metadata": {},
     "output_type": "execute_result"
    }
   ],
   "source": [
    "dataframe_dummy.head()"
   ]
  },
  {
   "cell_type": "code",
   "execution_count": 211,
   "metadata": {},
   "outputs": [],
   "source": [
    "check=['PM2.5','PM10','SO2']\n",
    "for i in check:\n",
    "    Q1 = dataframe_dummy[i].quantile(0.25)\n",
    "    Q3 = dataframe_dummy[i].quantile(0.75)\n",
    "    IQR=Q3-Q1\n",
    "    upperbound=Q3+1.5*IQR\n",
    "    dataframe_dummy = dataframe_dummy [dataframe_dummy[i]<=upperbound]"
   ]
  },
  {
   "cell_type": "code",
   "execution_count": 212,
   "metadata": {},
   "outputs": [],
   "source": [
    "x= dataframe_dummy.drop(['Air Quality','Log_PM10', 'Log_PM2.5','Log_SO2'], axis=1)\n",
    "y=dataframe_dummy['Air Quality']\n",
    "x_train, x_test, y_train, y_test = train_test_split(x,y,test_size=0.2,stratify=y,random_state=42)"
   ]
  },
  {
   "cell_type": "code",
   "execution_count": 213,
   "metadata": {},
   "outputs": [
    {
     "data": {
      "text/html": [
       "<div>\n",
       "<style scoped>\n",
       "    .dataframe tbody tr th:only-of-type {\n",
       "        vertical-align: middle;\n",
       "    }\n",
       "\n",
       "    .dataframe tbody tr th {\n",
       "        vertical-align: top;\n",
       "    }\n",
       "\n",
       "    .dataframe thead th {\n",
       "        text-align: right;\n",
       "    }\n",
       "</style>\n",
       "<table border=\"1\" class=\"dataframe\">\n",
       "  <thead>\n",
       "    <tr style=\"text-align: right;\">\n",
       "      <th></th>\n",
       "      <th>Temperature</th>\n",
       "      <th>Humidity</th>\n",
       "      <th>PM2.5</th>\n",
       "      <th>PM10</th>\n",
       "      <th>NO2</th>\n",
       "      <th>SO2</th>\n",
       "      <th>CO</th>\n",
       "      <th>Proximity_to_Industrial_Areas</th>\n",
       "      <th>Population_Density</th>\n",
       "    </tr>\n",
       "  </thead>\n",
       "  <tbody>\n",
       "    <tr>\n",
       "      <th>0</th>\n",
       "      <td>27.1</td>\n",
       "      <td>39.1</td>\n",
       "      <td>6.1</td>\n",
       "      <td>6.3</td>\n",
       "      <td>13.5</td>\n",
       "      <td>5.3</td>\n",
       "      <td>1.15</td>\n",
       "      <td>11.1</td>\n",
       "      <td>551</td>\n",
       "    </tr>\n",
       "    <tr>\n",
       "      <th>1</th>\n",
       "      <td>26.5</td>\n",
       "      <td>70.7</td>\n",
       "      <td>6.9</td>\n",
       "      <td>16.0</td>\n",
       "      <td>21.9</td>\n",
       "      <td>5.6</td>\n",
       "      <td>1.01</td>\n",
       "      <td>12.7</td>\n",
       "      <td>303</td>\n",
       "    </tr>\n",
       "    <tr>\n",
       "      <th>2</th>\n",
       "      <td>39.4</td>\n",
       "      <td>96.6</td>\n",
       "      <td>14.6</td>\n",
       "      <td>35.5</td>\n",
       "      <td>42.9</td>\n",
       "      <td>17.9</td>\n",
       "      <td>1.82</td>\n",
       "      <td>3.1</td>\n",
       "      <td>674</td>\n",
       "    </tr>\n",
       "    <tr>\n",
       "      <th>3</th>\n",
       "      <td>41.7</td>\n",
       "      <td>82.5</td>\n",
       "      <td>1.7</td>\n",
       "      <td>15.8</td>\n",
       "      <td>31.1</td>\n",
       "      <td>12.7</td>\n",
       "      <td>1.80</td>\n",
       "      <td>4.6</td>\n",
       "      <td>735</td>\n",
       "    </tr>\n",
       "    <tr>\n",
       "      <th>4</th>\n",
       "      <td>29.4</td>\n",
       "      <td>93.8</td>\n",
       "      <td>10.3</td>\n",
       "      <td>22.7</td>\n",
       "      <td>45.1</td>\n",
       "      <td>11.8</td>\n",
       "      <td>2.03</td>\n",
       "      <td>5.4</td>\n",
       "      <td>486</td>\n",
       "    </tr>\n",
       "  </tbody>\n",
       "</table>\n",
       "</div>"
      ],
      "text/plain": [
       "   Temperature  Humidity  PM2.5  PM10   NO2   SO2    CO  \\\n",
       "0         27.1      39.1    6.1   6.3  13.5   5.3  1.15   \n",
       "1         26.5      70.7    6.9  16.0  21.9   5.6  1.01   \n",
       "2         39.4      96.6   14.6  35.5  42.9  17.9  1.82   \n",
       "3         41.7      82.5    1.7  15.8  31.1  12.7  1.80   \n",
       "4         29.4      93.8   10.3  22.7  45.1  11.8  2.03   \n",
       "\n",
       "   Proximity_to_Industrial_Areas  Population_Density  \n",
       "0                           11.1                 551  \n",
       "1                           12.7                 303  \n",
       "2                            3.1                 674  \n",
       "3                            4.6                 735  \n",
       "4                            5.4                 486  "
      ]
     },
     "execution_count": 213,
     "metadata": {},
     "output_type": "execute_result"
    }
   ],
   "source": [
    "x.head()"
   ]
  },
  {
   "cell_type": "code",
   "execution_count": 214,
   "metadata": {},
   "outputs": [
    {
     "name": "stdout",
     "output_type": "stream",
     "text": [
      "Training Accuracy 0.9762470308788599\n",
      "Testing Accuracy 0.9782903663500678\n"
     ]
    },
    {
     "name": "stderr",
     "output_type": "stream",
     "text": [
      "c:\\Users\\338569\\Desktop\\Hackathon\\myenv\\lib\\site-packages\\sklearn\\linear_model\\_logistic.py:465: ConvergenceWarning: lbfgs failed to converge (status=1):\n",
      "STOP: TOTAL NO. of ITERATIONS REACHED LIMIT.\n",
      "\n",
      "Increase the number of iterations (max_iter) or scale the data as shown in:\n",
      "    https://scikit-learn.org/stable/modules/preprocessing.html\n",
      "Please also refer to the documentation for alternative solver options:\n",
      "    https://scikit-learn.org/stable/modules/linear_model.html#logistic-regression\n",
      "  n_iter_i = _check_optimize_result(\n"
     ]
    }
   ],
   "source": [
    "\n",
    "logisticregression(x_train=x_train,y_train=y_train,x_test=x_test,y_test=y_test)"
   ]
  },
  {
   "cell_type": "code",
   "execution_count": 215,
   "metadata": {},
   "outputs": [
    {
     "data": {
      "text/plain": [
       "0    1\n",
       "1    1\n",
       "2    0\n",
       "3    0\n",
       "4    0\n",
       "Name: Air Quality, dtype: int64"
      ]
     },
     "execution_count": 215,
     "metadata": {},
     "output_type": "execute_result"
    }
   ],
   "source": [
    "y.head()"
   ]
  },
  {
   "cell_type": "code",
   "execution_count": 216,
   "metadata": {},
   "outputs": [
    {
     "name": "stdout",
     "output_type": "stream",
     "text": [
      "Training Accuracy 0.9742110620970479\n",
      "Testing Accuracy 0.9782903663500678\n"
     ]
    }
   ],
   "source": [
    "randomforest(x_train=x_train,y_train=y_train,x_test=x_test,y_test=y_test)"
   ]
  },
  {
   "cell_type": "markdown",
   "metadata": {},
   "source": [
    "The training accuracies in the model have reduced slightly which shows that the model is able to generalize data little more better."
   ]
  },
  {
   "cell_type": "markdown",
   "metadata": {},
   "source": [
    "CApping"
   ]
  },
  {
   "cell_type": "code",
   "execution_count": 217,
   "metadata": {},
   "outputs": [],
   "source": [
    "dataframe_dummy2=dataframe"
   ]
  },
  {
   "cell_type": "code",
   "execution_count": 218,
   "metadata": {},
   "outputs": [
    {
     "data": {
      "text/html": [
       "<div>\n",
       "<style scoped>\n",
       "    .dataframe tbody tr th:only-of-type {\n",
       "        vertical-align: middle;\n",
       "    }\n",
       "\n",
       "    .dataframe tbody tr th {\n",
       "        vertical-align: top;\n",
       "    }\n",
       "\n",
       "    .dataframe thead th {\n",
       "        text-align: right;\n",
       "    }\n",
       "</style>\n",
       "<table border=\"1\" class=\"dataframe\">\n",
       "  <thead>\n",
       "    <tr style=\"text-align: right;\">\n",
       "      <th></th>\n",
       "      <th>Temperature</th>\n",
       "      <th>Humidity</th>\n",
       "      <th>PM2.5</th>\n",
       "      <th>PM10</th>\n",
       "      <th>NO2</th>\n",
       "      <th>SO2</th>\n",
       "      <th>CO</th>\n",
       "      <th>Proximity_to_Industrial_Areas</th>\n",
       "      <th>Population_Density</th>\n",
       "      <th>Air Quality</th>\n",
       "      <th>Log_PM2.5</th>\n",
       "      <th>Log_PM10</th>\n",
       "      <th>Log_SO2</th>\n",
       "    </tr>\n",
       "  </thead>\n",
       "  <tbody>\n",
       "    <tr>\n",
       "      <th>0</th>\n",
       "      <td>27.1</td>\n",
       "      <td>39.1</td>\n",
       "      <td>6.1</td>\n",
       "      <td>6.3</td>\n",
       "      <td>13.5</td>\n",
       "      <td>5.3</td>\n",
       "      <td>1.15</td>\n",
       "      <td>11.1</td>\n",
       "      <td>551</td>\n",
       "      <td>1</td>\n",
       "      <td>1.960095</td>\n",
       "      <td>1.987874</td>\n",
       "      <td>1.840550</td>\n",
       "    </tr>\n",
       "    <tr>\n",
       "      <th>1</th>\n",
       "      <td>26.5</td>\n",
       "      <td>70.7</td>\n",
       "      <td>6.9</td>\n",
       "      <td>16.0</td>\n",
       "      <td>21.9</td>\n",
       "      <td>5.6</td>\n",
       "      <td>1.01</td>\n",
       "      <td>12.7</td>\n",
       "      <td>303</td>\n",
       "      <td>1</td>\n",
       "      <td>2.066863</td>\n",
       "      <td>2.833213</td>\n",
       "      <td>1.887070</td>\n",
       "    </tr>\n",
       "    <tr>\n",
       "      <th>2</th>\n",
       "      <td>39.4</td>\n",
       "      <td>96.6</td>\n",
       "      <td>14.6</td>\n",
       "      <td>35.5</td>\n",
       "      <td>42.9</td>\n",
       "      <td>17.9</td>\n",
       "      <td>1.82</td>\n",
       "      <td>3.1</td>\n",
       "      <td>674</td>\n",
       "      <td>0</td>\n",
       "      <td>2.747271</td>\n",
       "      <td>3.597312</td>\n",
       "      <td>2.939162</td>\n",
       "    </tr>\n",
       "    <tr>\n",
       "      <th>3</th>\n",
       "      <td>41.7</td>\n",
       "      <td>82.5</td>\n",
       "      <td>1.7</td>\n",
       "      <td>15.8</td>\n",
       "      <td>31.1</td>\n",
       "      <td>12.7</td>\n",
       "      <td>1.80</td>\n",
       "      <td>4.6</td>\n",
       "      <td>735</td>\n",
       "      <td>0</td>\n",
       "      <td>0.993252</td>\n",
       "      <td>2.821379</td>\n",
       "      <td>2.617396</td>\n",
       "    </tr>\n",
       "    <tr>\n",
       "      <th>4</th>\n",
       "      <td>29.4</td>\n",
       "      <td>93.8</td>\n",
       "      <td>10.3</td>\n",
       "      <td>22.7</td>\n",
       "      <td>45.1</td>\n",
       "      <td>11.8</td>\n",
       "      <td>2.03</td>\n",
       "      <td>5.4</td>\n",
       "      <td>486</td>\n",
       "      <td>0</td>\n",
       "      <td>2.424803</td>\n",
       "      <td>3.165475</td>\n",
       "      <td>2.549445</td>\n",
       "    </tr>\n",
       "  </tbody>\n",
       "</table>\n",
       "</div>"
      ],
      "text/plain": [
       "   Temperature  Humidity  PM2.5  PM10   NO2   SO2    CO  \\\n",
       "0         27.1      39.1    6.1   6.3  13.5   5.3  1.15   \n",
       "1         26.5      70.7    6.9  16.0  21.9   5.6  1.01   \n",
       "2         39.4      96.6   14.6  35.5  42.9  17.9  1.82   \n",
       "3         41.7      82.5    1.7  15.8  31.1  12.7  1.80   \n",
       "4         29.4      93.8   10.3  22.7  45.1  11.8  2.03   \n",
       "\n",
       "   Proximity_to_Industrial_Areas  Population_Density  Air Quality  Log_PM2.5  \\\n",
       "0                           11.1                 551            1   1.960095   \n",
       "1                           12.7                 303            1   2.066863   \n",
       "2                            3.1                 674            0   2.747271   \n",
       "3                            4.6                 735            0   0.993252   \n",
       "4                            5.4                 486            0   2.424803   \n",
       "\n",
       "   Log_PM10   Log_SO2  \n",
       "0  1.987874  1.840550  \n",
       "1  2.833213  1.887070  \n",
       "2  3.597312  2.939162  \n",
       "3  2.821379  2.617396  \n",
       "4  3.165475  2.549445  "
      ]
     },
     "execution_count": 218,
     "metadata": {},
     "output_type": "execute_result"
    }
   ],
   "source": [
    "dataframe_dummy2.head()"
   ]
  },
  {
   "cell_type": "code",
   "execution_count": 219,
   "metadata": {},
   "outputs": [
    {
     "data": {
      "text/plain": [
       "Index(['Temperature', 'Humidity', 'PM2.5', 'PM10', 'NO2', 'SO2', 'CO',\n",
       "       'Proximity_to_Industrial_Areas', 'Population_Density', 'Air Quality',\n",
       "       'Log_PM2.5', 'Log_PM10', 'Log_SO2'],\n",
       "      dtype='object')"
      ]
     },
     "execution_count": 219,
     "metadata": {},
     "output_type": "execute_result"
    }
   ],
   "source": [
    "dataframe_dummy2.columns"
   ]
  },
  {
   "cell_type": "code",
   "execution_count": 220,
   "metadata": {},
   "outputs": [],
   "source": [
    "\n",
    "\n",
    "check=['PM2.5','PM10','SO2']\n",
    "for i in check:\n",
    "    Q1 = dataframe_dummy2[i].quantile(0.25)\n",
    "    Q3 = dataframe_dummy2[i].quantile(0.75)\n",
    "    IQR=Q3-Q1\n",
    "    lowerbound=Q3-1.5*IQR\n",
    "    upperbound=Q3+1.5*IQR\n",
    "    dataframe_dummy2[i] = dataframe_dummy2[i].apply(lambda x:lowerbound if x<lowerbound else upperbound if x>upperbound else x)"
   ]
  },
  {
   "cell_type": "code",
   "execution_count": 221,
   "metadata": {},
   "outputs": [
    {
     "data": {
      "text/html": [
       "<div>\n",
       "<style scoped>\n",
       "    .dataframe tbody tr th:only-of-type {\n",
       "        vertical-align: middle;\n",
       "    }\n",
       "\n",
       "    .dataframe tbody tr th {\n",
       "        vertical-align: top;\n",
       "    }\n",
       "\n",
       "    .dataframe thead th {\n",
       "        text-align: right;\n",
       "    }\n",
       "</style>\n",
       "<table border=\"1\" class=\"dataframe\">\n",
       "  <thead>\n",
       "    <tr style=\"text-align: right;\">\n",
       "      <th></th>\n",
       "      <th>Temperature</th>\n",
       "      <th>Humidity</th>\n",
       "      <th>PM2.5</th>\n",
       "      <th>PM10</th>\n",
       "      <th>NO2</th>\n",
       "      <th>SO2</th>\n",
       "      <th>CO</th>\n",
       "      <th>Proximity_to_Industrial_Areas</th>\n",
       "      <th>Population_Density</th>\n",
       "      <th>Air Quality</th>\n",
       "      <th>Log_PM2.5</th>\n",
       "      <th>Log_PM10</th>\n",
       "      <th>Log_SO2</th>\n",
       "    </tr>\n",
       "  </thead>\n",
       "  <tbody>\n",
       "    <tr>\n",
       "      <th>0</th>\n",
       "      <td>27.1</td>\n",
       "      <td>39.1</td>\n",
       "      <td>6.1</td>\n",
       "      <td>6.3</td>\n",
       "      <td>13.5</td>\n",
       "      <td>5.3</td>\n",
       "      <td>1.15</td>\n",
       "      <td>11.1</td>\n",
       "      <td>551</td>\n",
       "      <td>1</td>\n",
       "      <td>1.960095</td>\n",
       "      <td>1.987874</td>\n",
       "      <td>1.840550</td>\n",
       "    </tr>\n",
       "    <tr>\n",
       "      <th>1</th>\n",
       "      <td>26.5</td>\n",
       "      <td>70.7</td>\n",
       "      <td>6.9</td>\n",
       "      <td>16.0</td>\n",
       "      <td>21.9</td>\n",
       "      <td>5.6</td>\n",
       "      <td>1.01</td>\n",
       "      <td>12.7</td>\n",
       "      <td>303</td>\n",
       "      <td>1</td>\n",
       "      <td>2.066863</td>\n",
       "      <td>2.833213</td>\n",
       "      <td>1.887070</td>\n",
       "    </tr>\n",
       "    <tr>\n",
       "      <th>2</th>\n",
       "      <td>39.4</td>\n",
       "      <td>96.6</td>\n",
       "      <td>14.6</td>\n",
       "      <td>35.5</td>\n",
       "      <td>42.9</td>\n",
       "      <td>17.9</td>\n",
       "      <td>1.82</td>\n",
       "      <td>3.1</td>\n",
       "      <td>674</td>\n",
       "      <td>0</td>\n",
       "      <td>2.747271</td>\n",
       "      <td>3.597312</td>\n",
       "      <td>2.939162</td>\n",
       "    </tr>\n",
       "    <tr>\n",
       "      <th>3</th>\n",
       "      <td>41.7</td>\n",
       "      <td>82.5</td>\n",
       "      <td>1.7</td>\n",
       "      <td>15.8</td>\n",
       "      <td>31.1</td>\n",
       "      <td>12.7</td>\n",
       "      <td>1.80</td>\n",
       "      <td>4.6</td>\n",
       "      <td>735</td>\n",
       "      <td>0</td>\n",
       "      <td>0.993252</td>\n",
       "      <td>2.821379</td>\n",
       "      <td>2.617396</td>\n",
       "    </tr>\n",
       "    <tr>\n",
       "      <th>4</th>\n",
       "      <td>29.4</td>\n",
       "      <td>93.8</td>\n",
       "      <td>10.3</td>\n",
       "      <td>22.7</td>\n",
       "      <td>45.1</td>\n",
       "      <td>11.8</td>\n",
       "      <td>2.03</td>\n",
       "      <td>5.4</td>\n",
       "      <td>486</td>\n",
       "      <td>0</td>\n",
       "      <td>2.424803</td>\n",
       "      <td>3.165475</td>\n",
       "      <td>2.549445</td>\n",
       "    </tr>\n",
       "  </tbody>\n",
       "</table>\n",
       "</div>"
      ],
      "text/plain": [
       "   Temperature  Humidity  PM2.5  PM10   NO2   SO2    CO  \\\n",
       "0         27.1      39.1    6.1   6.3  13.5   5.3  1.15   \n",
       "1         26.5      70.7    6.9  16.0  21.9   5.6  1.01   \n",
       "2         39.4      96.6   14.6  35.5  42.9  17.9  1.82   \n",
       "3         41.7      82.5    1.7  15.8  31.1  12.7  1.80   \n",
       "4         29.4      93.8   10.3  22.7  45.1  11.8  2.03   \n",
       "\n",
       "   Proximity_to_Industrial_Areas  Population_Density  Air Quality  Log_PM2.5  \\\n",
       "0                           11.1                 551            1   1.960095   \n",
       "1                           12.7                 303            1   2.066863   \n",
       "2                            3.1                 674            0   2.747271   \n",
       "3                            4.6                 735            0   0.993252   \n",
       "4                            5.4                 486            0   2.424803   \n",
       "\n",
       "   Log_PM10   Log_SO2  \n",
       "0  1.987874  1.840550  \n",
       "1  2.833213  1.887070  \n",
       "2  3.597312  2.939162  \n",
       "3  2.821379  2.617396  \n",
       "4  3.165475  2.549445  "
      ]
     },
     "execution_count": 221,
     "metadata": {},
     "output_type": "execute_result"
    }
   ],
   "source": [
    "dataframe.head()"
   ]
  },
  {
   "cell_type": "code",
   "execution_count": 222,
   "metadata": {},
   "outputs": [],
   "source": [
    "x= dataframe_dummy2.drop(['Air Quality','Log_PM10', 'Log_PM2.5','Log_SO2'], axis=1)\n",
    "y=dataframe_dummy2['Air Quality']\n",
    "x_train, x_test, y_train, y_test = train_test_split(x,y,test_size=0.2,stratify=y,random_state=42)"
   ]
  },
  {
   "cell_type": "code",
   "execution_count": 223,
   "metadata": {},
   "outputs": [
    {
     "name": "stdout",
     "output_type": "stream",
     "text": [
      "Training Accuracy 0.9773529411764705\n",
      "Testing Accuracy 0.9741176470588235\n"
     ]
    }
   ],
   "source": [
    "logisticregression(x_train=x_train,y_train=y_train,x_test=x_test,y_test=y_test)"
   ]
  },
  {
   "cell_type": "code",
   "execution_count": 224,
   "metadata": {},
   "outputs": [
    {
     "name": "stdout",
     "output_type": "stream",
     "text": [
      "Training Accuracy 0.976764705882353\n",
      "Testing Accuracy 0.9741176470588235\n"
     ]
    }
   ],
   "source": [
    "randomforest(x_train=x_train,y_train=y_train,x_test=x_test,y_test=y_test)"
   ]
  },
  {
   "cell_type": "markdown",
   "metadata": {},
   "source": [
    "<span style=\"font-size: 22px; font-weight:bold;\">BIVARIATE ANALYSIS</span>"
   ]
  },
  {
   "cell_type": "code",
   "execution_count": 225,
   "metadata": {},
   "outputs": [
    {
     "data": {
      "text/html": [
       "<div>\n",
       "<style scoped>\n",
       "    .dataframe tbody tr th:only-of-type {\n",
       "        vertical-align: middle;\n",
       "    }\n",
       "\n",
       "    .dataframe tbody tr th {\n",
       "        vertical-align: top;\n",
       "    }\n",
       "\n",
       "    .dataframe thead th {\n",
       "        text-align: right;\n",
       "    }\n",
       "</style>\n",
       "<table border=\"1\" class=\"dataframe\">\n",
       "  <thead>\n",
       "    <tr style=\"text-align: right;\">\n",
       "      <th></th>\n",
       "      <th>Temperature</th>\n",
       "      <th>Humidity</th>\n",
       "      <th>PM2.5</th>\n",
       "      <th>PM10</th>\n",
       "      <th>NO2</th>\n",
       "      <th>SO2</th>\n",
       "      <th>CO</th>\n",
       "      <th>Proximity_to_Industrial_Areas</th>\n",
       "      <th>Population_Density</th>\n",
       "      <th>Air Quality</th>\n",
       "      <th>Log_PM2.5</th>\n",
       "      <th>Log_PM10</th>\n",
       "      <th>Log_SO2</th>\n",
       "    </tr>\n",
       "  </thead>\n",
       "  <tbody>\n",
       "    <tr>\n",
       "      <th>0</th>\n",
       "      <td>27.1</td>\n",
       "      <td>39.1</td>\n",
       "      <td>6.1</td>\n",
       "      <td>6.3</td>\n",
       "      <td>13.5</td>\n",
       "      <td>5.3</td>\n",
       "      <td>1.15</td>\n",
       "      <td>11.1</td>\n",
       "      <td>551</td>\n",
       "      <td>1</td>\n",
       "      <td>1.960095</td>\n",
       "      <td>1.987874</td>\n",
       "      <td>1.840550</td>\n",
       "    </tr>\n",
       "    <tr>\n",
       "      <th>1</th>\n",
       "      <td>26.5</td>\n",
       "      <td>70.7</td>\n",
       "      <td>6.9</td>\n",
       "      <td>16.0</td>\n",
       "      <td>21.9</td>\n",
       "      <td>5.6</td>\n",
       "      <td>1.01</td>\n",
       "      <td>12.7</td>\n",
       "      <td>303</td>\n",
       "      <td>1</td>\n",
       "      <td>2.066863</td>\n",
       "      <td>2.833213</td>\n",
       "      <td>1.887070</td>\n",
       "    </tr>\n",
       "    <tr>\n",
       "      <th>2</th>\n",
       "      <td>39.4</td>\n",
       "      <td>96.6</td>\n",
       "      <td>14.6</td>\n",
       "      <td>35.5</td>\n",
       "      <td>42.9</td>\n",
       "      <td>17.9</td>\n",
       "      <td>1.82</td>\n",
       "      <td>3.1</td>\n",
       "      <td>674</td>\n",
       "      <td>0</td>\n",
       "      <td>2.747271</td>\n",
       "      <td>3.597312</td>\n",
       "      <td>2.939162</td>\n",
       "    </tr>\n",
       "    <tr>\n",
       "      <th>3</th>\n",
       "      <td>41.7</td>\n",
       "      <td>82.5</td>\n",
       "      <td>1.7</td>\n",
       "      <td>15.8</td>\n",
       "      <td>31.1</td>\n",
       "      <td>12.7</td>\n",
       "      <td>1.80</td>\n",
       "      <td>4.6</td>\n",
       "      <td>735</td>\n",
       "      <td>0</td>\n",
       "      <td>0.993252</td>\n",
       "      <td>2.821379</td>\n",
       "      <td>2.617396</td>\n",
       "    </tr>\n",
       "    <tr>\n",
       "      <th>4</th>\n",
       "      <td>29.4</td>\n",
       "      <td>93.8</td>\n",
       "      <td>10.3</td>\n",
       "      <td>22.7</td>\n",
       "      <td>45.1</td>\n",
       "      <td>11.8</td>\n",
       "      <td>2.03</td>\n",
       "      <td>5.4</td>\n",
       "      <td>486</td>\n",
       "      <td>0</td>\n",
       "      <td>2.424803</td>\n",
       "      <td>3.165475</td>\n",
       "      <td>2.549445</td>\n",
       "    </tr>\n",
       "  </tbody>\n",
       "</table>\n",
       "</div>"
      ],
      "text/plain": [
       "   Temperature  Humidity  PM2.5  PM10   NO2   SO2    CO  \\\n",
       "0         27.1      39.1    6.1   6.3  13.5   5.3  1.15   \n",
       "1         26.5      70.7    6.9  16.0  21.9   5.6  1.01   \n",
       "2         39.4      96.6   14.6  35.5  42.9  17.9  1.82   \n",
       "3         41.7      82.5    1.7  15.8  31.1  12.7  1.80   \n",
       "4         29.4      93.8   10.3  22.7  45.1  11.8  2.03   \n",
       "\n",
       "   Proximity_to_Industrial_Areas  Population_Density  Air Quality  Log_PM2.5  \\\n",
       "0                           11.1                 551            1   1.960095   \n",
       "1                           12.7                 303            1   2.066863   \n",
       "2                            3.1                 674            0   2.747271   \n",
       "3                            4.6                 735            0   0.993252   \n",
       "4                            5.4                 486            0   2.424803   \n",
       "\n",
       "   Log_PM10   Log_SO2  \n",
       "0  1.987874  1.840550  \n",
       "1  2.833213  1.887070  \n",
       "2  3.597312  2.939162  \n",
       "3  2.821379  2.617396  \n",
       "4  3.165475  2.549445  "
      ]
     },
     "execution_count": 225,
     "metadata": {},
     "output_type": "execute_result"
    }
   ],
   "source": [
    "dataframe_dummy.head()"
   ]
  },
  {
   "cell_type": "code",
   "execution_count": 226,
   "metadata": {},
   "outputs": [],
   "source": [
    "dataframe=dataframe_dummy"
   ]
  },
  {
   "cell_type": "code",
   "execution_count": 227,
   "metadata": {},
   "outputs": [],
   "source": [
    "dataframe=dataframe.drop(['Log_PM2.5', 'Log_PM10', 'Log_SO2'],axis=1)"
   ]
  },
  {
   "cell_type": "code",
   "execution_count": 228,
   "metadata": {},
   "outputs": [
    {
     "data": {
      "text/plain": [
       "Index(['Temperature', 'Humidity', 'PM2.5', 'PM10', 'NO2', 'SO2', 'CO',\n",
       "       'Proximity_to_Industrial_Areas', 'Population_Density', 'Air Quality'],\n",
       "      dtype='object')"
      ]
     },
     "execution_count": 228,
     "metadata": {},
     "output_type": "execute_result"
    }
   ],
   "source": [
    "dataframe.columns"
   ]
  },
  {
   "cell_type": "code",
   "execution_count": 229,
   "metadata": {},
   "outputs": [
    {
     "data": {
      "text/html": [
       "<div>\n",
       "<style scoped>\n",
       "    .dataframe tbody tr th:only-of-type {\n",
       "        vertical-align: middle;\n",
       "    }\n",
       "\n",
       "    .dataframe tbody tr th {\n",
       "        vertical-align: top;\n",
       "    }\n",
       "\n",
       "    .dataframe thead th {\n",
       "        text-align: right;\n",
       "    }\n",
       "</style>\n",
       "<table border=\"1\" class=\"dataframe\">\n",
       "  <thead>\n",
       "    <tr style=\"text-align: right;\">\n",
       "      <th></th>\n",
       "      <th>Temperature</th>\n",
       "      <th>Humidity</th>\n",
       "      <th>PM2.5</th>\n",
       "      <th>PM10</th>\n",
       "      <th>NO2</th>\n",
       "      <th>SO2</th>\n",
       "      <th>CO</th>\n",
       "      <th>Proximity_to_Industrial_Areas</th>\n",
       "      <th>Population_Density</th>\n",
       "      <th>Air Quality</th>\n",
       "    </tr>\n",
       "  </thead>\n",
       "  <tbody>\n",
       "    <tr>\n",
       "      <th>0</th>\n",
       "      <td>27.1</td>\n",
       "      <td>39.1</td>\n",
       "      <td>6.1</td>\n",
       "      <td>6.3</td>\n",
       "      <td>13.5</td>\n",
       "      <td>5.3</td>\n",
       "      <td>1.15</td>\n",
       "      <td>11.1</td>\n",
       "      <td>551</td>\n",
       "      <td>1</td>\n",
       "    </tr>\n",
       "    <tr>\n",
       "      <th>1</th>\n",
       "      <td>26.5</td>\n",
       "      <td>70.7</td>\n",
       "      <td>6.9</td>\n",
       "      <td>16.0</td>\n",
       "      <td>21.9</td>\n",
       "      <td>5.6</td>\n",
       "      <td>1.01</td>\n",
       "      <td>12.7</td>\n",
       "      <td>303</td>\n",
       "      <td>1</td>\n",
       "    </tr>\n",
       "    <tr>\n",
       "      <th>2</th>\n",
       "      <td>39.4</td>\n",
       "      <td>96.6</td>\n",
       "      <td>14.6</td>\n",
       "      <td>35.5</td>\n",
       "      <td>42.9</td>\n",
       "      <td>17.9</td>\n",
       "      <td>1.82</td>\n",
       "      <td>3.1</td>\n",
       "      <td>674</td>\n",
       "      <td>0</td>\n",
       "    </tr>\n",
       "    <tr>\n",
       "      <th>3</th>\n",
       "      <td>41.7</td>\n",
       "      <td>82.5</td>\n",
       "      <td>1.7</td>\n",
       "      <td>15.8</td>\n",
       "      <td>31.1</td>\n",
       "      <td>12.7</td>\n",
       "      <td>1.80</td>\n",
       "      <td>4.6</td>\n",
       "      <td>735</td>\n",
       "      <td>0</td>\n",
       "    </tr>\n",
       "    <tr>\n",
       "      <th>4</th>\n",
       "      <td>29.4</td>\n",
       "      <td>93.8</td>\n",
       "      <td>10.3</td>\n",
       "      <td>22.7</td>\n",
       "      <td>45.1</td>\n",
       "      <td>11.8</td>\n",
       "      <td>2.03</td>\n",
       "      <td>5.4</td>\n",
       "      <td>486</td>\n",
       "      <td>0</td>\n",
       "    </tr>\n",
       "  </tbody>\n",
       "</table>\n",
       "</div>"
      ],
      "text/plain": [
       "   Temperature  Humidity  PM2.5  PM10   NO2   SO2    CO  \\\n",
       "0         27.1      39.1    6.1   6.3  13.5   5.3  1.15   \n",
       "1         26.5      70.7    6.9  16.0  21.9   5.6  1.01   \n",
       "2         39.4      96.6   14.6  35.5  42.9  17.9  1.82   \n",
       "3         41.7      82.5    1.7  15.8  31.1  12.7  1.80   \n",
       "4         29.4      93.8   10.3  22.7  45.1  11.8  2.03   \n",
       "\n",
       "   Proximity_to_Industrial_Areas  Population_Density  Air Quality  \n",
       "0                           11.1                 551            1  \n",
       "1                           12.7                 303            1  \n",
       "2                            3.1                 674            0  \n",
       "3                            4.6                 735            0  \n",
       "4                            5.4                 486            0  "
      ]
     },
     "execution_count": 229,
     "metadata": {},
     "output_type": "execute_result"
    }
   ],
   "source": [
    "dataframe.head()"
   ]
  },
  {
   "cell_type": "code",
   "execution_count": 230,
   "metadata": {},
   "outputs": [
    {
     "data": {
      "image/png": "[encoded data removed]",
      "text/plain": [
       "<Figure size 800x600 with 2 Axes>"
      ]
     },
     "metadata": {},
     "output_type": "display_data"
    }
   ],
   "source": [
    "check=['Temperature', 'Humidity', 'PM2.5', 'PM10', 'NO2', 'SO2', 'CO',\n",
    "       'Proximity_to_Industrial_Areas', 'Population_Density', 'Air Quality']\n",
    "correlation_matrix=dataframe_dummy[check].corr()\n",
    "plt.figure(figsize=(8,6))\n",
    "sn.heatmap(correlation_matrix,annot=True,cmap='coolwarm', fmt='.2f')\n",
    "plt.title('Correlation Heatmap of Features')\n",
    "plt.show()"
   ]
  },
  {
   "cell_type": "markdown",
   "metadata": {},
   "source": [
    "This heatmap shows that PM2.5 and PM10 have high positive correlation."
   ]
  },
  {
   "cell_type": "markdown",
   "metadata": {},
   "source": [
    "<span style=\"font-size: 22px; font-weight:bold;\">FEATURE ENGINEERING</span>"
   ]
  },
  {
   "cell_type": "markdown",
   "metadata": {},
   "source": [
    "Since PM2.5 and PM10 are highly correlated, tried creating another feature that can represent both the features."
   ]
  },
  {
   "cell_type": "code",
   "execution_count": 231,
   "metadata": {},
   "outputs": [],
   "source": [
    "dataframe['PM']= dataframe['PM2.5'] - dataframe['PM10'] "
   ]
  },
  {
   "cell_type": "code",
   "execution_count": 232,
   "metadata": {},
   "outputs": [
    {
     "data": {
      "text/html": [
       "<div>\n",
       "<style scoped>\n",
       "    .dataframe tbody tr th:only-of-type {\n",
       "        vertical-align: middle;\n",
       "    }\n",
       "\n",
       "    .dataframe tbody tr th {\n",
       "        vertical-align: top;\n",
       "    }\n",
       "\n",
       "    .dataframe thead th {\n",
       "        text-align: right;\n",
       "    }\n",
       "</style>\n",
       "<table border=\"1\" class=\"dataframe\">\n",
       "  <thead>\n",
       "    <tr style=\"text-align: right;\">\n",
       "      <th></th>\n",
       "      <th>Temperature</th>\n",
       "      <th>Humidity</th>\n",
       "      <th>PM2.5</th>\n",
       "      <th>PM10</th>\n",
       "      <th>NO2</th>\n",
       "      <th>SO2</th>\n",
       "      <th>CO</th>\n",
       "      <th>Proximity_to_Industrial_Areas</th>\n",
       "      <th>Population_Density</th>\n",
       "      <th>Air Quality</th>\n",
       "      <th>PM</th>\n",
       "    </tr>\n",
       "  </thead>\n",
       "  <tbody>\n",
       "    <tr>\n",
       "      <th>0</th>\n",
       "      <td>27.1</td>\n",
       "      <td>39.1</td>\n",
       "      <td>6.1</td>\n",
       "      <td>6.3</td>\n",
       "      <td>13.5</td>\n",
       "      <td>5.3</td>\n",
       "      <td>1.15</td>\n",
       "      <td>11.1</td>\n",
       "      <td>551</td>\n",
       "      <td>1</td>\n",
       "      <td>-0.2</td>\n",
       "    </tr>\n",
       "    <tr>\n",
       "      <th>1</th>\n",
       "      <td>26.5</td>\n",
       "      <td>70.7</td>\n",
       "      <td>6.9</td>\n",
       "      <td>16.0</td>\n",
       "      <td>21.9</td>\n",
       "      <td>5.6</td>\n",
       "      <td>1.01</td>\n",
       "      <td>12.7</td>\n",
       "      <td>303</td>\n",
       "      <td>1</td>\n",
       "      <td>-9.1</td>\n",
       "    </tr>\n",
       "    <tr>\n",
       "      <th>2</th>\n",
       "      <td>39.4</td>\n",
       "      <td>96.6</td>\n",
       "      <td>14.6</td>\n",
       "      <td>35.5</td>\n",
       "      <td>42.9</td>\n",
       "      <td>17.9</td>\n",
       "      <td>1.82</td>\n",
       "      <td>3.1</td>\n",
       "      <td>674</td>\n",
       "      <td>0</td>\n",
       "      <td>-20.9</td>\n",
       "    </tr>\n",
       "    <tr>\n",
       "      <th>3</th>\n",
       "      <td>41.7</td>\n",
       "      <td>82.5</td>\n",
       "      <td>1.7</td>\n",
       "      <td>15.8</td>\n",
       "      <td>31.1</td>\n",
       "      <td>12.7</td>\n",
       "      <td>1.80</td>\n",
       "      <td>4.6</td>\n",
       "      <td>735</td>\n",
       "      <td>0</td>\n",
       "      <td>-14.1</td>\n",
       "    </tr>\n",
       "    <tr>\n",
       "      <th>4</th>\n",
       "      <td>29.4</td>\n",
       "      <td>93.8</td>\n",
       "      <td>10.3</td>\n",
       "      <td>22.7</td>\n",
       "      <td>45.1</td>\n",
       "      <td>11.8</td>\n",
       "      <td>2.03</td>\n",
       "      <td>5.4</td>\n",
       "      <td>486</td>\n",
       "      <td>0</td>\n",
       "      <td>-12.4</td>\n",
       "    </tr>\n",
       "  </tbody>\n",
       "</table>\n",
       "</div>"
      ],
      "text/plain": [
       "   Temperature  Humidity  PM2.5  PM10   NO2   SO2    CO  \\\n",
       "0         27.1      39.1    6.1   6.3  13.5   5.3  1.15   \n",
       "1         26.5      70.7    6.9  16.0  21.9   5.6  1.01   \n",
       "2         39.4      96.6   14.6  35.5  42.9  17.9  1.82   \n",
       "3         41.7      82.5    1.7  15.8  31.1  12.7  1.80   \n",
       "4         29.4      93.8   10.3  22.7  45.1  11.8  2.03   \n",
       "\n",
       "   Proximity_to_Industrial_Areas  Population_Density  Air Quality    PM  \n",
       "0                           11.1                 551            1  -0.2  \n",
       "1                           12.7                 303            1  -9.1  \n",
       "2                            3.1                 674            0 -20.9  \n",
       "3                            4.6                 735            0 -14.1  \n",
       "4                            5.4                 486            0 -12.4  "
      ]
     },
     "execution_count": 232,
     "metadata": {},
     "output_type": "execute_result"
    }
   ],
   "source": [
    "dataframe.head()"
   ]
  },
  {
   "cell_type": "code",
   "execution_count": 233,
   "metadata": {},
   "outputs": [
    {
     "data": {
      "text/plain": [
       "Index(['Temperature', 'Humidity', 'PM2.5', 'PM10', 'NO2', 'SO2', 'CO',\n",
       "       'Proximity_to_Industrial_Areas', 'Population_Density', 'Air Quality',\n",
       "       'PM'],\n",
       "      dtype='object')"
      ]
     },
     "execution_count": 233,
     "metadata": {},
     "output_type": "execute_result"
    }
   ],
   "source": [
    "dataframe.columns"
   ]
  },
  {
   "cell_type": "code",
   "execution_count": 234,
   "metadata": {},
   "outputs": [
    {
     "name": "stdout",
     "output_type": "stream",
     "text": [
      "Index(['Temperature', 'Humidity', 'NO2', 'SO2', 'CO',\n",
      "       'Proximity_to_Industrial_Areas', 'Population_Density', 'PM'],\n",
      "      dtype='object')\n"
     ]
    }
   ],
   "source": [
    "new_features=['Temperature', 'Humidity', 'NO2', 'SO2', 'CO',\n",
    "       'Proximity_to_Industrial_Areas', 'Population_Density', 'PM']\n",
    "\n",
    "xset=dataframe.drop(columns=['Air Quality','PM2.5', 'PM10'])\n",
    "yset=dataframe['Air Quality']\n",
    "print(xset.columns)\n",
    "scaler = MinMaxScaler()\n",
    "scaling= scaler.fit_transform(xset)\n",
    "xset=pd.DataFrame(scaling, columns=xset.columns)\n",
    "\n",
    "x_train, x_test, y_train, y_test = train_test_split(xset,yset,test_size=0.2,stratify=yset,random_state=42)"
   ]
  },
  {
   "cell_type": "code",
   "execution_count": 235,
   "metadata": {},
   "outputs": [
    {
     "data": {
      "text/plain": [
       "Index(['Temperature', 'Humidity', 'NO2', 'SO2', 'CO',\n",
       "       'Proximity_to_Industrial_Areas', 'Population_Density', 'PM'],\n",
       "      dtype='object')"
      ]
     },
     "execution_count": 235,
     "metadata": {},
     "output_type": "execute_result"
    }
   ],
   "source": [
    "xset.columns"
   ]
  },
  {
   "cell_type": "code",
   "execution_count": 236,
   "metadata": {},
   "outputs": [
    {
     "name": "stdout",
     "output_type": "stream",
     "text": [
      "Training Accuracy 0.9748897183576518\n",
      "Testing Accuracy 0.9755766621438263\n"
     ]
    }
   ],
   "source": [
    "logisticregression(x_train=x_train,y_train=y_train,x_test=x_test,y_test=y_test)"
   ]
  },
  {
   "cell_type": "code",
   "execution_count": 237,
   "metadata": {},
   "outputs": [
    {
     "name": "stdout",
     "output_type": "stream",
     "text": [
      "Training Accuracy 0.9779436715303699\n",
      "Testing Accuracy 0.9810040705563093\n"
     ]
    }
   ],
   "source": [
    "randomforest(x_train=x_train,y_train=y_train,x_test=x_test,y_test=y_test)"
   ]
  },
  {
   "cell_type": "markdown",
   "metadata": {},
   "source": [
    "Now there is a slight increase in the accuracy, compared to the accuracy before feature engineering."
   ]
  },
  {
   "cell_type": "code",
   "execution_count": 238,
   "metadata": {},
   "outputs": [],
   "source": [
    "dataframe=dataframe.drop(['PM10','PM2.5'],axis=1)"
   ]
  },
  {
   "cell_type": "code",
   "execution_count": 239,
   "metadata": {},
   "outputs": [
    {
     "data": {
      "text/html": [
       "<div>\n",
       "<style scoped>\n",
       "    .dataframe tbody tr th:only-of-type {\n",
       "        vertical-align: middle;\n",
       "    }\n",
       "\n",
       "    .dataframe tbody tr th {\n",
       "        vertical-align: top;\n",
       "    }\n",
       "\n",
       "    .dataframe thead th {\n",
       "        text-align: right;\n",
       "    }\n",
       "</style>\n",
       "<table border=\"1\" class=\"dataframe\">\n",
       "  <thead>\n",
       "    <tr style=\"text-align: right;\">\n",
       "      <th></th>\n",
       "      <th>Temperature</th>\n",
       "      <th>Humidity</th>\n",
       "      <th>NO2</th>\n",
       "      <th>SO2</th>\n",
       "      <th>CO</th>\n",
       "      <th>Proximity_to_Industrial_Areas</th>\n",
       "      <th>Population_Density</th>\n",
       "      <th>Air Quality</th>\n",
       "      <th>PM</th>\n",
       "    </tr>\n",
       "  </thead>\n",
       "  <tbody>\n",
       "    <tr>\n",
       "      <th>0</th>\n",
       "      <td>27.1</td>\n",
       "      <td>39.1</td>\n",
       "      <td>13.5</td>\n",
       "      <td>5.3</td>\n",
       "      <td>1.15</td>\n",
       "      <td>11.1</td>\n",
       "      <td>551</td>\n",
       "      <td>1</td>\n",
       "      <td>-0.2</td>\n",
       "    </tr>\n",
       "    <tr>\n",
       "      <th>1</th>\n",
       "      <td>26.5</td>\n",
       "      <td>70.7</td>\n",
       "      <td>21.9</td>\n",
       "      <td>5.6</td>\n",
       "      <td>1.01</td>\n",
       "      <td>12.7</td>\n",
       "      <td>303</td>\n",
       "      <td>1</td>\n",
       "      <td>-9.1</td>\n",
       "    </tr>\n",
       "    <tr>\n",
       "      <th>2</th>\n",
       "      <td>39.4</td>\n",
       "      <td>96.6</td>\n",
       "      <td>42.9</td>\n",
       "      <td>17.9</td>\n",
       "      <td>1.82</td>\n",
       "      <td>3.1</td>\n",
       "      <td>674</td>\n",
       "      <td>0</td>\n",
       "      <td>-20.9</td>\n",
       "    </tr>\n",
       "    <tr>\n",
       "      <th>3</th>\n",
       "      <td>41.7</td>\n",
       "      <td>82.5</td>\n",
       "      <td>31.1</td>\n",
       "      <td>12.7</td>\n",
       "      <td>1.80</td>\n",
       "      <td>4.6</td>\n",
       "      <td>735</td>\n",
       "      <td>0</td>\n",
       "      <td>-14.1</td>\n",
       "    </tr>\n",
       "    <tr>\n",
       "      <th>4</th>\n",
       "      <td>29.4</td>\n",
       "      <td>93.8</td>\n",
       "      <td>45.1</td>\n",
       "      <td>11.8</td>\n",
       "      <td>2.03</td>\n",
       "      <td>5.4</td>\n",
       "      <td>486</td>\n",
       "      <td>0</td>\n",
       "      <td>-12.4</td>\n",
       "    </tr>\n",
       "  </tbody>\n",
       "</table>\n",
       "</div>"
      ],
      "text/plain": [
       "   Temperature  Humidity   NO2   SO2    CO  Proximity_to_Industrial_Areas  \\\n",
       "0         27.1      39.1  13.5   5.3  1.15                           11.1   \n",
       "1         26.5      70.7  21.9   5.6  1.01                           12.7   \n",
       "2         39.4      96.6  42.9  17.9  1.82                            3.1   \n",
       "3         41.7      82.5  31.1  12.7  1.80                            4.6   \n",
       "4         29.4      93.8  45.1  11.8  2.03                            5.4   \n",
       "\n",
       "   Population_Density  Air Quality    PM  \n",
       "0                 551            1  -0.2  \n",
       "1                 303            1  -9.1  \n",
       "2                 674            0 -20.9  \n",
       "3                 735            0 -14.1  \n",
       "4                 486            0 -12.4  "
      ]
     },
     "execution_count": 239,
     "metadata": {},
     "output_type": "execute_result"
    }
   ],
   "source": [
    "dataframe.head()"
   ]
  },
  {
   "cell_type": "markdown",
   "metadata": {},
   "source": [
    "<span style=\"font-size: 22px; font-weight:bold;\">FEATURE SELECTION</span>"
   ]
  },
  {
   "cell_type": "markdown",
   "metadata": {},
   "source": [
    "<span style=\"font-size: 17px; font-weight:bold;\">Checking feature importance in Logistic Regression:</span>"
   ]
  },
  {
   "cell_type": "markdown",
   "metadata": {},
   "source": [
    "Before Feature Engineering:"
   ]
  },
  {
   "cell_type": "code",
   "execution_count": 240,
   "metadata": {},
   "outputs": [
    {
     "name": "stdout",
     "output_type": "stream",
     "text": [
      "Feature Importance :\n",
      "                         Feature  Coefficient  Importance\n",
      "6                             CO    -9.287396    9.287396\n",
      "4                            NO2    -5.998354    5.998354\n",
      "5                            SO2    -4.733158    4.733158\n",
      "0                    Temperature    -4.480164    4.480164\n",
      "7  Proximity_to_Industrial_Areas     3.935741    3.935741\n",
      "1                       Humidity    -3.631047    3.631047\n",
      "8             Population_Density    -3.408653    3.408653\n",
      "3                           PM10    -2.050424    2.050424\n",
      "2                          PM2.5    -0.698130    0.698130\n"
     ]
    },
    {
     "data": {
      "image/png": "[encoded data removed]",
      "text/plain": [
       "<Figure size 1000x600 with 1 Axes>"
      ]
     },
     "metadata": {},
     "output_type": "display_data"
    }
   ],
   "source": [
    "featurename= X_train.columns\n",
    "coeff=model1.coef_[0]\n",
    "features=pd.DataFrame({'Feature':featurename,'Coefficient':coeff})\n",
    "features['Importance']=np.abs(features['Coefficient'])\n",
    "features=features.sort_values(by='Importance', ascending=False)\n",
    "print(\"Feature Importance :\")\n",
    "print(features)\n",
    "\n",
    "plt.figure(figsize=(10,6))\n",
    "plt.barh(features['Feature'], features['Importance'], color='skyblue')\n",
    "plt.xlabel('Importance')\n",
    "plt.ylabel('Features')\n",
    "plt.title('Feature Importance in Logistic Regression')\n",
    "plt.gca().invert_yaxis()\n",
    "plt.show()"
   ]
  },
  {
   "cell_type": "markdown",
   "metadata": {},
   "source": [
    "After Feature Engineering:"
   ]
  },
  {
   "cell_type": "code",
   "execution_count": 241,
   "metadata": {},
   "outputs": [
    {
     "name": "stdout",
     "output_type": "stream",
     "text": [
      "Training Accuracy 0.9748897183576518\n",
      "Testing Accuracy 0.9755766621438263\n",
      "Feature Importance :\n",
      "                         Feature  Coefficient  Importance\n",
      "5                             CO    -8.536271    8.536271\n",
      "3                            NO2    -5.226918    5.226918\n",
      "0                    Temperature    -4.098257    4.098257\n",
      "6  Proximity_to_Industrial_Areas     3.836514    3.836514\n",
      "2                             PM     3.594356    3.594356\n",
      "4                            SO2    -3.185597    3.185597\n",
      "1                       Humidity    -3.156795    3.156795\n",
      "7             Population_Density    -2.802377    2.802377\n"
     ]
    },
    {
     "data": {
      "image/png": "[encoded data removed]",
      "text/plain": [
       "<Figure size 1000x600 with 1 Axes>"
      ]
     },
     "metadata": {},
     "output_type": "display_data"
    }
   ],
   "source": [
    "new_features=['Temperature', 'Humidity', 'PM', 'NO2', 'SO2', 'CO',\n",
    "       'Proximity_to_Industrial_Areas', 'Population_Density']\n",
    "\n",
    "X=dataframe[new_features]\n",
    "Y=dataframe['Air Quality']\n",
    "\n",
    "scaler = MinMaxScaler()\n",
    "scaling= scaler.fit_transform(X)\n",
    "X=pd.DataFrame(scaling, columns=X.columns)\n",
    "\n",
    "x_train, x_test, y_train, y_test = train_test_split(X,Y,test_size=0.2,stratify=Y,random_state=42)\n",
    "\n",
    "model1=LogisticRegression()\n",
    "model1.fit(x_train, y_train)\n",
    "\n",
    "training_pred= model1.predict(x_train)\n",
    "training_accuracy = accuracy_score(y_train, training_pred)\n",
    "print(\"Training Accuracy\", training_accuracy)\n",
    "    \n",
    "predictions= model1.predict(x_test)\n",
    "accuracy = accuracy_score(y_test, predictions)\n",
    "print(\"Testing Accuracy\", accuracy )\n",
    "\n",
    "featurename= x_train.columns\n",
    "coeff=model1.coef_[0]\n",
    "features=pd.DataFrame({'Feature':featurename,'Coefficient':coeff})\n",
    "features['Importance']=np.abs(features['Coefficient'])\n",
    "features=features.sort_values(by='Importance', ascending=False)\n",
    "print(\"Feature Importance :\")\n",
    "print(features)\n",
    "\n",
    "plt.figure(figsize=(10,6))\n",
    "plt.barh(features['Feature'], features['Importance'], color='skyblue')\n",
    "plt.xlabel('Importance')\n",
    "plt.ylabel('Features')\n",
    "plt.title('Feature Importance in Logistic Regression')\n",
    "plt.gca().invert_yaxis()\n",
    "plt.show()"
   ]
  },
  {
   "cell_type": "markdown",
   "metadata": {},
   "source": [
    "<span style=\"font-size: 17px; font-weight:bold;\">Checking feature importance in Random Forest:</span>"
   ]
  },
  {
   "cell_type": "markdown",
   "metadata": {},
   "source": [
    "Before feature engineering:"
   ]
  },
  {
   "cell_type": "code",
   "execution_count": 242,
   "metadata": {},
   "outputs": [
    {
     "name": "stdout",
     "output_type": "stream",
     "text": [
      "Feature Importance\n",
      "                         Feature  Importance\n",
      "6                             CO    0.406656\n",
      "4                            NO2    0.203429\n",
      "5                            SO2    0.124380\n",
      "7  Proximity_to_Industrial_Areas    0.120768\n",
      "0                    Temperature    0.071231\n",
      "8             Population_Density    0.035784\n",
      "1                       Humidity    0.027837\n",
      "3                           PM10    0.007138\n",
      "2                          PM2.5    0.002777\n"
     ]
    },
    {
     "data": {
      "image/png": "[encoded data removed]",
      "text/plain": [
       "<Figure size 1000x600 with 1 Axes>"
      ]
     },
     "metadata": {},
     "output_type": "display_data"
    }
   ],
   "source": [
    "feature_importance=model3.feature_importances_\n",
    "names=X_train.columns\n",
    "importance = pd.DataFrame({'Feature':names, 'Importance':feature_importance}).sort_values(by='Importance',ascending=False)\n",
    "print(\"Feature Importance\")\n",
    "print(importance)\n",
    "plt.figure(figsize=(10,6))\n",
    "plt.barh(importance['Feature'], importance['Importance'], color='skyblue')\n",
    "plt.xlabel('Importance')\n",
    "plt.ylabel('Features')\n",
    "plt.title('Feature Importance in Random Forest')\n",
    "plt.gca().invert_yaxis()\n",
    "plt.show()\n"
   ]
  },
  {
   "cell_type": "markdown",
   "metadata": {},
   "source": [
    "After Feature Engineering:"
   ]
  },
  {
   "cell_type": "code",
   "execution_count": 243,
   "metadata": {},
   "outputs": [],
   "source": [
    "new_features=['Temperature', 'Humidity', 'PM', 'NO2', 'SO2', 'CO',\n",
    "       'Proximity_to_Industrial_Areas', 'Population_Density']\n",
    "\n",
    "X=dataframe[new_features]\n",
    "Y=dataframe['Air Quality']\n",
    "\n",
    "scaler = MinMaxScaler()\n",
    "scaling= scaler.fit_transform(X)\n",
    "X=pd.DataFrame(scaling, columns=X.columns)\n",
    "\n",
    "x_train, x_test, y_train, y_test = train_test_split(X,Y,test_size=0.2,stratify=Y,random_state=42)"
   ]
  },
  {
   "cell_type": "code",
   "execution_count": 244,
   "metadata": {},
   "outputs": [
    {
     "name": "stdout",
     "output_type": "stream",
     "text": [
      "Training Accuracy 0.9789616559212758\n",
      "Testing Accuracy 0.9850746268656716\n",
      "Feature Importance\n",
      "                         Feature  Importance\n",
      "5                             CO    0.299686\n",
      "6  Proximity_to_Industrial_Areas    0.233601\n",
      "3                            NO2    0.160340\n",
      "0                    Temperature    0.101154\n",
      "4                            SO2    0.090077\n",
      "2                             PM    0.073848\n",
      "7             Population_Density    0.025842\n",
      "1                       Humidity    0.015451\n"
     ]
    },
    {
     "data": {
      "image/png": "[encoded data removed]",
      "text/plain": [
       "<Figure size 1000x600 with 1 Axes>"
      ]
     },
     "metadata": {},
     "output_type": "display_data"
    }
   ],
   "source": [
    "model3_new=RandomForestClassifier(n_estimators=100, max_depth=3,min_samples_split=5, min_samples_leaf=5)\n",
    "model3_new.fit(x_train, y_train)\n",
    "\n",
    "training_pred= model3_new.predict(x_train)\n",
    "training_accuracy = accuracy_score(y_train, training_pred)\n",
    "print(\"Training Accuracy\", training_accuracy)\n",
    "\n",
    "test_predictions= model3_new.predict(x_test)\n",
    "accuracy = accuracy_score(y_test, test_predictions)\n",
    "print(\"Testing Accuracy\", accuracy )\n",
    "\n",
    "feature_importance=model3_new.feature_importances_\n",
    "names=x_train.columns\n",
    "importance = pd.DataFrame({'Feature':names, 'Importance':feature_importance}).sort_values(by='Importance',ascending=False)\n",
    "print(\"Feature Importance\")\n",
    "print(importance)\n",
    "plt.figure(figsize=(10,6))\n",
    "plt.barh(importance['Feature'], importance['Importance'], color='skyblue')\n",
    "plt.xlabel('Importance')\n",
    "plt.ylabel('Features')\n",
    "plt.title('Feature Importance in Random Forest')\n",
    "plt.gca().invert_yaxis()\n",
    "plt.show()"
   ]
  },
  {
   "cell_type": "markdown",
   "metadata": {},
   "source": [
    "As each of the features has its own contribution to the prediction, no features are being removed/dropped."
   ]
  },
  {
   "cell_type": "markdown",
   "metadata": {},
   "source": [
    "<span style=\"font-size: 22px; font-weight:bold;\">HYPERPARAMETER TUNING FOR LOGISTIC REGRESSION</span>"
   ]
  },
  {
   "cell_type": "code",
   "execution_count": 245,
   "metadata": {},
   "outputs": [
    {
     "name": "stdout",
     "output_type": "stream",
     "text": [
      "Best parameters :  {'C': 10, 'max_iter': 100, 'penalty': 'l2', 'solver': 'liblinear'}\n",
      "Best Cross validation Accuracy :  0.9738706799804323\n"
     ]
    }
   ],
   "source": [
    "parameter_grid={\n",
    "    'C': [0.001, 0.01, 0.1, 1, 10, 100],\n",
    "    'penalty' : ['l2'],\n",
    "    'solver' : ['liblinear'],\n",
    "    'max_iter': [100,200,300,400,500]\n",
    "}\n",
    "\n",
    "optimized_lr = LogisticRegression()\n",
    "grid_search = GridSearchCV(optimized_lr, parameter_grid, cv=5, scoring='accuracy', n_jobs=-1)\n",
    "grid_search.fit(x_train, y_train)\n",
    "\n",
    "print(\"Best parameters : \", grid_search.best_params_)\n",
    "print(\"Best Cross validation Accuracy : \", grid_search.best_score_)"
   ]
  },
  {
   "cell_type": "code",
   "execution_count": 246,
   "metadata": {},
   "outputs": [
    {
     "name": "stdout",
     "output_type": "stream",
     "text": [
      "Training Accuracy :  0.9755683746182559\n",
      "Test Accuracy :  0.9823609226594301\n",
      "Precision :  0.9870609981515711\n"
     ]
    }
   ],
   "source": [
    "best_lr=grid_search.best_estimator_\n",
    "trainpreds=best_lr.predict(x_train)\n",
    "testpreds=best_lr.predict(x_test)\n",
    "train_acc=accuracy_score(y_train, trainpreds)\n",
    "test_acc=accuracy_score(y_test, testpreds)\n",
    "precision=precision_score(y_test, testpreds)\n",
    "print(\"Training Accuracy : \",train_acc)\n",
    "print(\"Test Accuracy : \",test_acc)\n",
    "print(\"Precision : \", precision)\n",
    "\n"
   ]
  },
  {
   "cell_type": "markdown",
   "metadata": {},
   "source": [
    "Testing accuracy has improved. But there is a significant gap between testing accuracy and training accuracy values."
   ]
  },
  {
   "cell_type": "markdown",
   "metadata": {},
   "source": [
    "<span style=\"font-size: 22px; font-weight:bold;\">HYPERPARAMETER TUNING FOR RANDOM FOREST</span>"
   ]
  },
  {
   "cell_type": "code",
   "execution_count": 247,
   "metadata": {},
   "outputs": [],
   "source": [
    "param_grid={ 'n_estimators' :  [10, 25,50,100,200],\n",
    "             'max_depth' : [ None, 3, 5, 10, 20],\n",
    "             'min_samples_split' : [10,20,50],\n",
    "             'min_samples_leaf' : [5,10,15,20],\n",
    "             'max_features' : ['sqrt', 'log2', None]\n",
    "\n",
    "}"
   ]
  },
  {
   "cell_type": "code",
   "execution_count": 248,
   "metadata": {},
   "outputs": [
    {
     "name": "stdout",
     "output_type": "stream",
     "text": [
      "Fitting 3 folds for each of 900 candidates, totalling 2700 fits\n",
      "Best Parameters :  {'max_depth': 5, 'max_features': 'sqrt', 'min_samples_leaf': 5, 'min_samples_split': 20, 'n_estimators': 200}\n",
      "Train Accuracy :  0.9850695622667119\n",
      "Test Accuracy :  0.9864314789687924\n",
      "Precision :  0.988929889298893\n"
     ]
    }
   ],
   "source": [
    "rf=RandomForestClassifier(random_state=42)\n",
    "\n",
    "grid_search=GridSearchCV(estimator=rf, param_grid=param_grid, cv=3, scoring='accuracy', verbose=2, n_jobs=-1)\n",
    "grid_search.fit(x_train,y_train)\n",
    "\n",
    "print(\"Best Parameters : \" ,grid_search.best_params_)\n",
    "best_model=grid_search.best_estimator_\n",
    "training_pred=best_model.predict(x_train)\n",
    "y_pred=best_model.predict(x_test)\n",
    "print(\"Train Accuracy : \", accuracy_score(y_train,training_pred))\n",
    "print(\"Test Accuracy : \", accuracy_score(y_test,y_pred))\n",
    "precision=precision_score(y_test, y_pred)\n",
    "print(\"Precision : \", precision)"
   ]
  },
  {
   "cell_type": "markdown",
   "metadata": {},
   "source": [
    "The model that performed better is the Random Forest after hyper-parameter tuning with a accuracy of 98.64%.  \n",
    "\n"
   ]
  },
  {
   "cell_type": "markdown",
   "metadata": {},
   "source": [
    "<span style=\"font-size: 22px; font-weight:bold;\">SAVING MODEL USING PICKLE</span>"
   ]
  },
  {
   "cell_type": "code",
   "execution_count": 259,
   "metadata": {},
   "outputs": [],
   "source": [
    "with open (\"air_quality.pkl\", 'wb') as f:\n",
    "    pickle.dump(best_model, f)\n",
    "\n",
    "with open ('scaler.pkl', 'wb') as f:\n",
    "    pickle.dump(scaler, f) "
   ]
  },
  {
   "cell_type": "code",
   "execution_count": 300,
   "metadata": {},
   "outputs": [],
   "source": [
    "with open('air_quality.pkl', 'rb') as f:\n",
    "    final_model=pickle.load(f)\n",
    "\n",
    "with open('scaler.pkl', 'rb') as f:\n",
    "    scaler=pickle.load(f)"
   ]
  },
  {
   "cell_type": "code",
   "execution_count": 307,
   "metadata": {},
   "outputs": [],
   "source": [
    "input = {\n",
    "    'Temperature' : 30.5,\n",
    "    'Humidity': 65.2 ,\n",
    "    'PM2.5' : 12.5, \n",
    "    'PM10' : 20.3,\n",
    "    'NO2' : 18.5, \n",
    "    'SO2' : 5.3, \n",
    "    'CO' : 0.95,\n",
    "    'Proximity_to_Industrial_Areas' : 10.1, \n",
    "    'Population_Density' : 400\n",
    "}"
   ]
  },
  {
   "cell_type": "code",
   "execution_count": 308,
   "metadata": {},
   "outputs": [],
   "source": [
    "input['PM'] = input['PM2.5'] - input['PM10']\n"
   ]
  },
  {
   "cell_type": "code",
   "execution_count": 309,
   "metadata": {},
   "outputs": [],
   "source": [
    "features =[\n",
    "    input['Temperature'],\n",
    "    input['Humidity'] ,\n",
    "    input['PM'], \n",
    "    input['NO2'], \n",
    "    input['SO2'], \n",
    "    input['CO'],\n",
    "    input['Proximity_to_Industrial_Areas'], \n",
    "    input['Population_Density']\n",
    "]\n",
    "\n",
    "featurenames=['Temperature', 'Humidity', 'PM', 'NO2', 'SO2', 'CO',\n",
    "       'Proximity_to_Industrial_Areas', 'Population_Density']\n",
    "\n",
    "input_df=pd.DataFrame([features], columns=featurenames)\n",
    "\n",
    "scaled_features=scaler.transform(input_df)\n",
    "scaled_df=pd.DataFrame(scaled_features,columns=input_df.columns)"
   ]
  },
  {
   "cell_type": "code",
   "execution_count": 311,
   "metadata": {},
   "outputs": [
    {
     "name": "stdout",
     "output_type": "stream",
     "text": [
      "Air Quality is Good\n"
     ]
    }
   ],
   "source": [
    "prediction=final_model.predict(scaled_df)\n",
    "\n",
    "if prediction[0]==0:\n",
    "    print(\"Air Quality is Poor\")\n",
    "\n",
    "else:\n",
    "    print(\"Air Quality is Good\")"
   ]
  },
  {
   "cell_type": "code",
   "execution_count": null,
   "metadata": {},
   "outputs": [],
   "source": []
  }
 ],
 "metadata": {
  "kernelspec": {
   "display_name": "Python 3 (ipykernel)",
   "language": "python",
   "name": "python3"
  },
  "language_info": {
   "codemirror_mode": {
    "name": "ipython",
    "version": 3
   },
   "file_extension": ".py",
   "mimetype": "text/x-python",
   "name": "python",
   "nbconvert_exporter": "python",
   "pygments_lexer": "ipython3",
   "version": "3.10.11"
  }
 },
 "nbformat": 4,
 "nbformat_minor": 4
}
